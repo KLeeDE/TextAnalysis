{
  "nbformat": 4,
  "nbformat_minor": 0,
  "metadata": {
    "colab": {
      "name": "20200919_ADP_textanalysis_Python.ipynb",
      "provenance": [],
      "toc_visible": true,
      "authorship_tag": "ABX9TyMZ4vI+m3jxEYw2uhjlBf/A",
      "include_colab_link": true
    },
    "kernelspec": {
      "name": "python3",
      "display_name": "Python 3"
    }
  },
  "cells": [
    {
      "cell_type": "markdown",
      "metadata": {
        "id": "view-in-github",
        "colab_type": "text"
      },
      "source": [
        "<a href=\"https://colab.research.google.com/github/KLeeDE/TextAnalysis/blob/master/practice/20200919_ADP_textanalysis_Python.ipynb\" target=\"_parent\"><img src=\"https://colab.research.google.com/assets/colab-badge.svg\" alt=\"Open In Colab\"/></a>"
      ]
    },
    {
      "cell_type": "markdown",
      "metadata": {
        "id": "YLa3sYM8ADft"
      },
      "source": [
        "# ADP Text Analysis Research \n",
        "\n",
        "**연구자**: 고인환, 박지원, 박현선, 이경민\n",
        "\n",
        "더반플랫폼임시작업반(ADP)에 참여한 국가 간 협상 그룹 간 CBDR-RC에 대한 입장이 어떻게 구분되고 변화해왔는지 추적함. 궁극적으로는 Annex I - Non-Annex I 간의 갈등 양상이 아닌 Shared Responsibility vs Differentiated Responsibility 를 주장하는 국가 군 간의 갈등으로 CBDR-RC에 대한 담론이 진화하고 있다는 기존의 선행연구를 경험적으로 뒷받침하고자 함.\n"
      ]
    },
    {
      "cell_type": "markdown",
      "metadata": {
        "id": "KmuNKKtfHCTB"
      },
      "source": [
        "# Wordfish-python (Under development)\n",
        "\n",
        "Link: http://www.wordfish.org/\n",
        "\n",
        "Wordfish is a computer program written in the **R statistical language** to extract political positions from text documents. Word frequencies are used to place documents onto a single dimension. Wordfish is a scaling technique and does not need any anchoring documents to perform the analysis. Instead, it relies on a statistical model of word counts. The current implementation assumes a Poisson distribution of word frequencies. Positions are estimated using an expectation-maximization algorithm. Confidence intervals for estimated positions can be generated from a parametric bootstrap.The name Wordfish pays tribute to the French meaning of the word “poisson”."
      ]
    },
    {
      "cell_type": "code",
      "metadata": {
        "id": "bc_mkotMHD03",
        "outputId": "03d1c6bf-1336-43dd-f2f4-36371d094062",
        "colab": {
          "base_uri": "https://localhost:8080/",
          "height": 783
        }
      },
      "source": [
        "!pip install git+git://github.com/word-fish/wordfish-python.git"
      ],
      "execution_count": null,
      "outputs": [
        {
          "output_type": "stream",
          "text": [
            "Collecting git+git://github.com/word-fish/wordfish-python.git\n",
            "  Cloning git://github.com/word-fish/wordfish-python.git to /tmp/pip-req-build-tn2txt6u\n",
            "  Running command git clone -q git://github.com/word-fish/wordfish-python.git /tmp/pip-req-build-tn2txt6u\n",
            "Requirement already satisfied: gensim>=3.6.0 in /usr/local/lib/python3.6/dist-packages (from wordfish==1.2.0) (3.6.0)\n",
            "Requirement already satisfied: pandas>=0.22.0 in /usr/local/lib/python3.6/dist-packages (from wordfish==1.2.0) (1.0.5)\n",
            "Requirement already satisfied: textblob>=0.15.1 in /usr/local/lib/python3.6/dist-packages (from wordfish==1.2.0) (0.15.3)\n",
            "Requirement already satisfied: nltk>=3.2.5 in /usr/local/lib/python3.6/dist-packages (from wordfish==1.2.0) (3.2.5)\n",
            "Requirement already satisfied: numpy>=1.14.3 in /usr/local/lib/python3.6/dist-packages (from wordfish==1.2.0) (1.18.5)\n",
            "Collecting gitpython>=2.1.11\n",
            "\u001b[?25l  Downloading https://files.pythonhosted.org/packages/09/bc/ae32e07e89cc25b9e5c793d19a1e5454d30a8e37d95040991160f942519e/GitPython-3.1.8-py3-none-any.whl (159kB)\n",
            "\u001b[K     |████████████████████████████████| 163kB 2.8MB/s \n",
            "\u001b[?25hCollecting xmltodict>=0.11.0\n",
            "  Downloading https://files.pythonhosted.org/packages/28/fd/30d5c1d3ac29ce229f6bdc40bbc20b28f716e8b363140c26eff19122d8a5/xmltodict-0.12.0-py2.py3-none-any.whl\n",
            "Requirement already satisfied: smart-open>=1.2.1 in /usr/local/lib/python3.6/dist-packages (from gensim>=3.6.0->wordfish==1.2.0) (2.1.1)\n",
            "Requirement already satisfied: scipy>=0.18.1 in /usr/local/lib/python3.6/dist-packages (from gensim>=3.6.0->wordfish==1.2.0) (1.4.1)\n",
            "Requirement already satisfied: six>=1.5.0 in /usr/local/lib/python3.6/dist-packages (from gensim>=3.6.0->wordfish==1.2.0) (1.15.0)\n",
            "Requirement already satisfied: python-dateutil>=2.6.1 in /usr/local/lib/python3.6/dist-packages (from pandas>=0.22.0->wordfish==1.2.0) (2.8.1)\n",
            "Requirement already satisfied: pytz>=2017.2 in /usr/local/lib/python3.6/dist-packages (from pandas>=0.22.0->wordfish==1.2.0) (2018.9)\n",
            "Collecting gitdb<5,>=4.0.1\n",
            "\u001b[?25l  Downloading https://files.pythonhosted.org/packages/48/11/d1800bca0a3bae820b84b7d813ad1eff15a48a64caea9c823fc8c1b119e8/gitdb-4.0.5-py3-none-any.whl (63kB)\n",
            "\u001b[K     |████████████████████████████████| 71kB 3.9MB/s \n",
            "\u001b[?25hRequirement already satisfied: boto in /usr/local/lib/python3.6/dist-packages (from smart-open>=1.2.1->gensim>=3.6.0->wordfish==1.2.0) (2.49.0)\n",
            "Requirement already satisfied: requests in /usr/local/lib/python3.6/dist-packages (from smart-open>=1.2.1->gensim>=3.6.0->wordfish==1.2.0) (2.23.0)\n",
            "Requirement already satisfied: boto3 in /usr/local/lib/python3.6/dist-packages (from smart-open>=1.2.1->gensim>=3.6.0->wordfish==1.2.0) (1.14.63)\n",
            "Collecting smmap<4,>=3.0.1\n",
            "  Downloading https://files.pythonhosted.org/packages/b0/9a/4d409a6234eb940e6a78dfdfc66156e7522262f5f2fecca07dc55915952d/smmap-3.0.4-py2.py3-none-any.whl\n",
            "Requirement already satisfied: urllib3!=1.25.0,!=1.25.1,<1.26,>=1.21.1 in /usr/local/lib/python3.6/dist-packages (from requests->smart-open>=1.2.1->gensim>=3.6.0->wordfish==1.2.0) (1.24.3)\n",
            "Requirement already satisfied: chardet<4,>=3.0.2 in /usr/local/lib/python3.6/dist-packages (from requests->smart-open>=1.2.1->gensim>=3.6.0->wordfish==1.2.0) (3.0.4)\n",
            "Requirement already satisfied: certifi>=2017.4.17 in /usr/local/lib/python3.6/dist-packages (from requests->smart-open>=1.2.1->gensim>=3.6.0->wordfish==1.2.0) (2020.6.20)\n",
            "Requirement already satisfied: idna<3,>=2.5 in /usr/local/lib/python3.6/dist-packages (from requests->smart-open>=1.2.1->gensim>=3.6.0->wordfish==1.2.0) (2.10)\n",
            "Requirement already satisfied: jmespath<1.0.0,>=0.7.1 in /usr/local/lib/python3.6/dist-packages (from boto3->smart-open>=1.2.1->gensim>=3.6.0->wordfish==1.2.0) (0.10.0)\n",
            "Requirement already satisfied: botocore<1.18.0,>=1.17.63 in /usr/local/lib/python3.6/dist-packages (from boto3->smart-open>=1.2.1->gensim>=3.6.0->wordfish==1.2.0) (1.17.63)\n",
            "Requirement already satisfied: s3transfer<0.4.0,>=0.3.0 in /usr/local/lib/python3.6/dist-packages (from boto3->smart-open>=1.2.1->gensim>=3.6.0->wordfish==1.2.0) (0.3.3)\n",
            "Requirement already satisfied: docutils<0.16,>=0.10 in /usr/local/lib/python3.6/dist-packages (from botocore<1.18.0,>=1.17.63->boto3->smart-open>=1.2.1->gensim>=3.6.0->wordfish==1.2.0) (0.15.2)\n",
            "Building wheels for collected packages: wordfish\n",
            "  Building wheel for wordfish (setup.py) ... \u001b[?25l\u001b[?25hdone\n",
            "  Created wheel for wordfish: filename=wordfish-1.2.0-cp36-none-any.whl size=2591011 sha256=1c6966b60eb027ce2fcfecf0fde81f7242c37a8797c1c45c6fbcf852bef86a71\n",
            "  Stored in directory: /tmp/pip-ephem-wheel-cache-q9n4p7sl/wheels/a8/04/cd/c5ffae8ae9727b2da8a6273fcd656a6275e4786edf83270b2d\n",
            "Successfully built wordfish\n",
            "Installing collected packages: smmap, gitdb, gitpython, xmltodict, wordfish\n",
            "Successfully installed gitdb-4.0.5 gitpython-3.1.8 smmap-3.0.4 wordfish-1.2.0 xmltodict-0.12.0\n"
          ],
          "name": "stdout"
        }
      ]
    },
    {
      "cell_type": "markdown",
      "metadata": {
        "id": "_zZitBz8MQKb"
      },
      "source": [
        "Wordfish-python\n",
        "\n",
        "Link: https://github.com/word-fish/wordfish-python\n",
        "\n",
        "**under development! not ready for use!**"
      ]
    },
    {
      "cell_type": "markdown",
      "metadata": {
        "id": "8mrB5a3vu-xr"
      },
      "source": [
        "# Data Cleaning"
      ]
    },
    {
      "cell_type": "code",
      "metadata": {
        "id": "NQsDo2WI_fC-",
        "outputId": "0c4c534b-2ab8-468f-8498-52ba9bfb5e40",
        "colab": {
          "base_uri": "https://localhost:8080/",
          "height": 35
        }
      },
      "source": [
        "from google.colab import drive\n",
        "drive.mount('/content/drive')"
      ],
      "execution_count": null,
      "outputs": [
        {
          "output_type": "stream",
          "text": [
            "Mounted at /content/drive\n"
          ],
          "name": "stdout"
        }
      ]
    },
    {
      "cell_type": "code",
      "metadata": {
        "id": "U-Xye3pUANXi",
        "outputId": "45369ff6-d5e7-45bf-868c-c371310852dc",
        "colab": {
          "base_uri": "https://localhost:8080/",
          "height": 74
        }
      },
      "source": [
        "from pandas import Series, DataFrame\n",
        "import pandas as pd\n",
        "import numpy as np\n",
        "import statsmodels.formula\n",
        "import matplotlib.pyplot as plt"
      ],
      "execution_count": null,
      "outputs": [
        {
          "output_type": "stream",
          "text": [
            "/usr/local/lib/python3.6/dist-packages/statsmodels/tools/_testing.py:19: FutureWarning: pandas.util.testing is deprecated. Use the functions in the public API at pandas.testing instead.\n",
            "  import pandas.util.testing as tm\n"
          ],
          "name": "stderr"
        }
      ]
    },
    {
      "cell_type": "code",
      "metadata": {
        "id": "jr0YROxtGHs5",
        "outputId": "36837640-2cdf-4b67-90a4-e188a01bbecc",
        "colab": {
          "base_uri": "https://localhost:8080/",
          "height": 464
        }
      },
      "source": [
        "fname = \"/content/drive/My Drive/BWRN-ADP/data/adp_clean_csv.csv\"\n",
        "adp = pd.read_csv(fname, sep='delimiter')\n",
        "adp"
      ],
      "execution_count": null,
      "outputs": [
        {
          "output_type": "stream",
          "text": [
            "/usr/local/lib/python3.6/dist-packages/ipykernel_launcher.py:2: ParserWarning: Falling back to the 'python' engine because the 'c' engine does not support regex separators (separators > 1 char and different from '\\s+' are interpreted as regex); you can avoid this warning by specifying engine='python'.\n",
            "  \n"
          ],
          "name": "stderr"
        },
        {
          "output_type": "execute_result",
          "data": {
            "text/html": [
              "<div>\n",
              "<style scoped>\n",
              "    .dataframe tbody tr th:only-of-type {\n",
              "        vertical-align: middle;\n",
              "    }\n",
              "\n",
              "    .dataframe tbody tr th {\n",
              "        vertical-align: top;\n",
              "    }\n",
              "\n",
              "    .dataframe thead th {\n",
              "        text-align: right;\n",
              "    }\n",
              "</style>\n",
              "<table border=\"1\" class=\"dataframe\">\n",
              "  <thead>\n",
              "    <tr style=\"text-align: right;\">\n",
              "      <th></th>\n",
              "      <th>doc_id,session,part,time,date,group,text</th>\n",
              "    </tr>\n",
              "  </thead>\n",
              "  <tbody>\n",
              "    <tr>\n",
              "      <th>0</th>\n",
              "      <td>1,2,1,1,20130429,ailac,\"Thank you Co-Chairs, I...</td>\n",
              "    </tr>\n",
              "    <tr>\n",
              "      <th>1</th>\n",
              "      <td>2,2,1,1,20130429,aosis,\"Distinguished Co-Chair...</td>\n",
              "    </tr>\n",
              "    <tr>\n",
              "      <th>2</th>\n",
              "      <td>3,2,1,1,20130429,arab,\"Distinguished Co-Chairs...</td>\n",
              "    </tr>\n",
              "    <tr>\n",
              "      <th>3</th>\n",
              "      <td>4,2,1,1,20130429,eig,\"Mr. Co-Chairs, This stat...</td>\n",
              "    </tr>\n",
              "    <tr>\n",
              "      <th>4</th>\n",
              "      <td>5,2,1,1,20130429,eu,\"I have the honour to spea...</td>\n",
              "    </tr>\n",
              "    <tr>\n",
              "      <th>...</th>\n",
              "      <td>...</td>\n",
              "    </tr>\n",
              "    <tr>\n",
              "      <th>173</th>\n",
              "      <td>174,2,12,12,20151205,crn,\"Thank you Mr. Co-Cha...</td>\n",
              "    </tr>\n",
              "    <tr>\n",
              "      <th>174</th>\n",
              "      <td>175,2,12,12,20151205,eig,\"Mr. Co-Chairs, dear ...</td>\n",
              "    </tr>\n",
              "    <tr>\n",
              "      <th>175</th>\n",
              "      <td>176,2,12,12,20151205,eu,\"The EU and its Member...</td>\n",
              "    </tr>\n",
              "    <tr>\n",
              "      <th>176</th>\n",
              "      <td>177,2,12,12,20151205,g77china,\"Co-Chairs I hav...</td>\n",
              "    </tr>\n",
              "    <tr>\n",
              "      <th>177</th>\n",
              "      <td>178,2,12,12,20151205,umbrella,\"Co-Chairs, I ha...</td>\n",
              "    </tr>\n",
              "  </tbody>\n",
              "</table>\n",
              "<p>178 rows × 1 columns</p>\n",
              "</div>"
            ],
            "text/plain": [
              "              doc_id,session,part,time,date,group,text\n",
              "0    1,2,1,1,20130429,ailac,\"Thank you Co-Chairs, I...\n",
              "1    2,2,1,1,20130429,aosis,\"Distinguished Co-Chair...\n",
              "2    3,2,1,1,20130429,arab,\"Distinguished Co-Chairs...\n",
              "3    4,2,1,1,20130429,eig,\"Mr. Co-Chairs, This stat...\n",
              "4    5,2,1,1,20130429,eu,\"I have the honour to spea...\n",
              "..                                                 ...\n",
              "173  174,2,12,12,20151205,crn,\"Thank you Mr. Co-Cha...\n",
              "174  175,2,12,12,20151205,eig,\"Mr. Co-Chairs, dear ...\n",
              "175  176,2,12,12,20151205,eu,\"The EU and its Member...\n",
              "176  177,2,12,12,20151205,g77china,\"Co-Chairs I hav...\n",
              "177  178,2,12,12,20151205,umbrella,\"Co-Chairs, I ha...\n",
              "\n",
              "[178 rows x 1 columns]"
            ]
          },
          "metadata": {
            "tags": []
          },
          "execution_count": 4
        }
      ]
    },
    {
      "cell_type": "code",
      "metadata": {
        "id": "ZS-tg3PkW7fs",
        "outputId": "b24a3d5a-67fe-412f-934b-0b612ef11a3a",
        "colab": {
          "base_uri": "https://localhost:8080/",
          "height": 35
        }
      },
      "source": [
        "list(adp.columns)"
      ],
      "execution_count": null,
      "outputs": [
        {
          "output_type": "execute_result",
          "data": {
            "text/plain": [
              "['doc_id,session,part,time,date,group,text']"
            ]
          },
          "metadata": {
            "tags": []
          },
          "execution_count": 5
        }
      ]
    },
    {
      "cell_type": "code",
      "metadata": {
        "id": "ACdDmc9mYnpP",
        "outputId": "4a764d1b-79f9-432b-ea9c-f9e0b2a290ab",
        "colab": {
          "base_uri": "https://localhost:8080/",
          "height": 35
        }
      },
      "source": [
        "# -- 타입 확인\n",
        "type(adp[\"doc_id,session,part,time,date,group,text\"].iloc[0])"
      ],
      "execution_count": null,
      "outputs": [
        {
          "output_type": "execute_result",
          "data": {
            "text/plain": [
              "str"
            ]
          },
          "metadata": {
            "tags": []
          },
          "execution_count": 8
        }
      ]
    },
    {
      "cell_type": "code",
      "metadata": {
        "id": "-fukkG3zStdl",
        "outputId": "88960220-7fa5-47bb-dd94-22a036495b32",
        "colab": {
          "base_uri": "https://localhost:8080/",
          "height": 407
        }
      },
      "source": [
        "adp[\"column_list\"] = adp[\"doc_id,session,part,time,date,group,text\"].str.split(',')\n",
        "adp"
      ],
      "execution_count": null,
      "outputs": [
        {
          "output_type": "execute_result",
          "data": {
            "text/html": [
              "<div>\n",
              "<style scoped>\n",
              "    .dataframe tbody tr th:only-of-type {\n",
              "        vertical-align: middle;\n",
              "    }\n",
              "\n",
              "    .dataframe tbody tr th {\n",
              "        vertical-align: top;\n",
              "    }\n",
              "\n",
              "    .dataframe thead th {\n",
              "        text-align: right;\n",
              "    }\n",
              "</style>\n",
              "<table border=\"1\" class=\"dataframe\">\n",
              "  <thead>\n",
              "    <tr style=\"text-align: right;\">\n",
              "      <th></th>\n",
              "      <th>doc_id,session,part,time,date,group,text</th>\n",
              "      <th>column_list</th>\n",
              "    </tr>\n",
              "  </thead>\n",
              "  <tbody>\n",
              "    <tr>\n",
              "      <th>0</th>\n",
              "      <td>1,2,1,1,20130429,ailac,\"Thank you Co-Chairs, I...</td>\n",
              "      <td>[1, 2, 1, 1, 20130429, ailac, \"Thank you Co-Ch...</td>\n",
              "    </tr>\n",
              "    <tr>\n",
              "      <th>1</th>\n",
              "      <td>2,2,1,1,20130429,aosis,\"Distinguished Co-Chair...</td>\n",
              "      <td>[2, 2, 1, 1, 20130429, aosis, \"Distinguished C...</td>\n",
              "    </tr>\n",
              "    <tr>\n",
              "      <th>2</th>\n",
              "      <td>3,2,1,1,20130429,arab,\"Distinguished Co-Chairs...</td>\n",
              "      <td>[3, 2, 1, 1, 20130429, arab, \"Distinguished Co...</td>\n",
              "    </tr>\n",
              "    <tr>\n",
              "      <th>3</th>\n",
              "      <td>4,2,1,1,20130429,eig,\"Mr. Co-Chairs, This stat...</td>\n",
              "      <td>[4, 2, 1, 1, 20130429, eig, \"Mr. Co-Chairs,  T...</td>\n",
              "    </tr>\n",
              "    <tr>\n",
              "      <th>4</th>\n",
              "      <td>5,2,1,1,20130429,eu,\"I have the honour to spea...</td>\n",
              "      <td>[5, 2, 1, 1, 20130429, eu, \"I have the honour ...</td>\n",
              "    </tr>\n",
              "    <tr>\n",
              "      <th>...</th>\n",
              "      <td>...</td>\n",
              "      <td>...</td>\n",
              "    </tr>\n",
              "    <tr>\n",
              "      <th>173</th>\n",
              "      <td>174,2,12,12,20151205,crn,\"Thank you Mr. Co-Cha...</td>\n",
              "      <td>[174, 2, 12, 12, 20151205, crn, \"Thank you Mr....</td>\n",
              "    </tr>\n",
              "    <tr>\n",
              "      <th>174</th>\n",
              "      <td>175,2,12,12,20151205,eig,\"Mr. Co-Chairs, dear ...</td>\n",
              "      <td>[175, 2, 12, 12, 20151205, eig, \"Mr. Co-Chairs...</td>\n",
              "    </tr>\n",
              "    <tr>\n",
              "      <th>175</th>\n",
              "      <td>176,2,12,12,20151205,eu,\"The EU and its Member...</td>\n",
              "      <td>[176, 2, 12, 12, 20151205, eu, \"The EU and its...</td>\n",
              "    </tr>\n",
              "    <tr>\n",
              "      <th>176</th>\n",
              "      <td>177,2,12,12,20151205,g77china,\"Co-Chairs I hav...</td>\n",
              "      <td>[177, 2, 12, 12, 20151205, g77china, \"Co-Chair...</td>\n",
              "    </tr>\n",
              "    <tr>\n",
              "      <th>177</th>\n",
              "      <td>178,2,12,12,20151205,umbrella,\"Co-Chairs, I ha...</td>\n",
              "      <td>[178, 2, 12, 12, 20151205, umbrella, \"Co-Chair...</td>\n",
              "    </tr>\n",
              "  </tbody>\n",
              "</table>\n",
              "<p>178 rows × 2 columns</p>\n",
              "</div>"
            ],
            "text/plain": [
              "              doc_id,session,part,time,date,group,text                                        column_list\n",
              "0    1,2,1,1,20130429,ailac,\"Thank you Co-Chairs, I...  [1, 2, 1, 1, 20130429, ailac, \"Thank you Co-Ch...\n",
              "1    2,2,1,1,20130429,aosis,\"Distinguished Co-Chair...  [2, 2, 1, 1, 20130429, aosis, \"Distinguished C...\n",
              "2    3,2,1,1,20130429,arab,\"Distinguished Co-Chairs...  [3, 2, 1, 1, 20130429, arab, \"Distinguished Co...\n",
              "3    4,2,1,1,20130429,eig,\"Mr. Co-Chairs, This stat...  [4, 2, 1, 1, 20130429, eig, \"Mr. Co-Chairs,  T...\n",
              "4    5,2,1,1,20130429,eu,\"I have the honour to spea...  [5, 2, 1, 1, 20130429, eu, \"I have the honour ...\n",
              "..                                                 ...                                                ...\n",
              "173  174,2,12,12,20151205,crn,\"Thank you Mr. Co-Cha...  [174, 2, 12, 12, 20151205, crn, \"Thank you Mr....\n",
              "174  175,2,12,12,20151205,eig,\"Mr. Co-Chairs, dear ...  [175, 2, 12, 12, 20151205, eig, \"Mr. Co-Chairs...\n",
              "175  176,2,12,12,20151205,eu,\"The EU and its Member...  [176, 2, 12, 12, 20151205, eu, \"The EU and its...\n",
              "176  177,2,12,12,20151205,g77china,\"Co-Chairs I hav...  [177, 2, 12, 12, 20151205, g77china, \"Co-Chair...\n",
              "177  178,2,12,12,20151205,umbrella,\"Co-Chairs, I ha...  [178, 2, 12, 12, 20151205, umbrella, \"Co-Chair...\n",
              "\n",
              "[178 rows x 2 columns]"
            ]
          },
          "metadata": {
            "tags": []
          },
          "execution_count": 9
        }
      ]
    },
    {
      "cell_type": "code",
      "metadata": {
        "id": "WKAAr3SFb9Fe",
        "outputId": "48472054-1934-46f8-ca06-1bb94d8b3111",
        "colab": {
          "base_uri": "https://localhost:8080/",
          "height": 616
        }
      },
      "source": [
        "adp[\"doc_id\"], adp[\"session\"], adp[\"part\"], adp[\"time\"], adp[\"date\"], adp[\"group\"], adp[\"text\"] = adp[\"doc_id,session,part,time,date,group,text\"].str.split(',', 6).str\n",
        "adp"
      ],
      "execution_count": null,
      "outputs": [
        {
          "output_type": "stream",
          "text": [
            "/usr/local/lib/python3.6/dist-packages/ipykernel_launcher.py:1: FutureWarning: Columnar iteration over characters will be deprecated in future releases.\n",
            "  \"\"\"Entry point for launching an IPython kernel.\n"
          ],
          "name": "stderr"
        },
        {
          "output_type": "execute_result",
          "data": {
            "text/html": [
              "<div>\n",
              "<style scoped>\n",
              "    .dataframe tbody tr th:only-of-type {\n",
              "        vertical-align: middle;\n",
              "    }\n",
              "\n",
              "    .dataframe tbody tr th {\n",
              "        vertical-align: top;\n",
              "    }\n",
              "\n",
              "    .dataframe thead th {\n",
              "        text-align: right;\n",
              "    }\n",
              "</style>\n",
              "<table border=\"1\" class=\"dataframe\">\n",
              "  <thead>\n",
              "    <tr style=\"text-align: right;\">\n",
              "      <th></th>\n",
              "      <th>doc_id,session,part,time,date,group,text</th>\n",
              "      <th>column_list</th>\n",
              "      <th>doc_id</th>\n",
              "      <th>session</th>\n",
              "      <th>part</th>\n",
              "      <th>time</th>\n",
              "      <th>date</th>\n",
              "      <th>group</th>\n",
              "      <th>text</th>\n",
              "    </tr>\n",
              "  </thead>\n",
              "  <tbody>\n",
              "    <tr>\n",
              "      <th>0</th>\n",
              "      <td>1,2,1,1,20130429,ailac,\"Thank you Co-Chairs, I...</td>\n",
              "      <td>[1, 2, 1, 1, 20130429, ailac, \"Thank you Co-Ch...</td>\n",
              "      <td>1</td>\n",
              "      <td>2</td>\n",
              "      <td>1</td>\n",
              "      <td>1</td>\n",
              "      <td>20130429</td>\n",
              "      <td>ailac</td>\n",
              "      <td>\"Thank you Co-Chairs, I have the honor of spea...</td>\n",
              "    </tr>\n",
              "    <tr>\n",
              "      <th>1</th>\n",
              "      <td>2,2,1,1,20130429,aosis,\"Distinguished Co-Chair...</td>\n",
              "      <td>[2, 2, 1, 1, 20130429, aosis, \"Distinguished C...</td>\n",
              "      <td>2</td>\n",
              "      <td>2</td>\n",
              "      <td>1</td>\n",
              "      <td>1</td>\n",
              "      <td>20130429</td>\n",
              "      <td>aosis</td>\n",
              "      <td>\"Distinguished Co-Chairs, Excellencies, Collea...</td>\n",
              "    </tr>\n",
              "    <tr>\n",
              "      <th>2</th>\n",
              "      <td>3,2,1,1,20130429,arab,\"Distinguished Co-Chairs...</td>\n",
              "      <td>[3, 2, 1, 1, 20130429, arab, \"Distinguished Co...</td>\n",
              "      <td>3</td>\n",
              "      <td>2</td>\n",
              "      <td>1</td>\n",
              "      <td>1</td>\n",
              "      <td>20130429</td>\n",
              "      <td>arab</td>\n",
              "      <td>\"Distinguished Co-Chairs I have the honor to t...</td>\n",
              "    </tr>\n",
              "    <tr>\n",
              "      <th>3</th>\n",
              "      <td>4,2,1,1,20130429,eig,\"Mr. Co-Chairs, This stat...</td>\n",
              "      <td>[4, 2, 1, 1, 20130429, eig, \"Mr. Co-Chairs,  T...</td>\n",
              "      <td>4</td>\n",
              "      <td>2</td>\n",
              "      <td>1</td>\n",
              "      <td>1</td>\n",
              "      <td>20130429</td>\n",
              "      <td>eig</td>\n",
              "      <td>\"Mr. Co-Chairs, This statement is made on beha...</td>\n",
              "    </tr>\n",
              "    <tr>\n",
              "      <th>4</th>\n",
              "      <td>5,2,1,1,20130429,eu,\"I have the honour to spea...</td>\n",
              "      <td>[5, 2, 1, 1, 20130429, eu, \"I have the honour ...</td>\n",
              "      <td>5</td>\n",
              "      <td>2</td>\n",
              "      <td>1</td>\n",
              "      <td>1</td>\n",
              "      <td>20130429</td>\n",
              "      <td>eu</td>\n",
              "      <td>\"I have the honour to speak on behalf of the E...</td>\n",
              "    </tr>\n",
              "    <tr>\n",
              "      <th>...</th>\n",
              "      <td>...</td>\n",
              "      <td>...</td>\n",
              "      <td>...</td>\n",
              "      <td>...</td>\n",
              "      <td>...</td>\n",
              "      <td>...</td>\n",
              "      <td>...</td>\n",
              "      <td>...</td>\n",
              "      <td>...</td>\n",
              "    </tr>\n",
              "    <tr>\n",
              "      <th>173</th>\n",
              "      <td>174,2,12,12,20151205,crn,\"Thank you Mr. Co-Cha...</td>\n",
              "      <td>[174, 2, 12, 12, 20151205, crn, \"Thank you Mr....</td>\n",
              "      <td>174</td>\n",
              "      <td>2</td>\n",
              "      <td>12</td>\n",
              "      <td>12</td>\n",
              "      <td>20151205</td>\n",
              "      <td>crn</td>\n",
              "      <td>\"Thank you Mr. Co-Chairs, Panama has the honou...</td>\n",
              "    </tr>\n",
              "    <tr>\n",
              "      <th>174</th>\n",
              "      <td>175,2,12,12,20151205,eig,\"Mr. Co-Chairs, dear ...</td>\n",
              "      <td>[175, 2, 12, 12, 20151205, eig, \"Mr. Co-Chairs...</td>\n",
              "      <td>175</td>\n",
              "      <td>2</td>\n",
              "      <td>12</td>\n",
              "      <td>12</td>\n",
              "      <td>20151205</td>\n",
              "      <td>eig</td>\n",
              "      <td>\"Mr. Co-Chairs, dear colleagues I have the ple...</td>\n",
              "    </tr>\n",
              "    <tr>\n",
              "      <th>175</th>\n",
              "      <td>176,2,12,12,20151205,eu,\"The EU and its Member...</td>\n",
              "      <td>[176, 2, 12, 12, 20151205, eu, \"The EU and its...</td>\n",
              "      <td>176</td>\n",
              "      <td>2</td>\n",
              "      <td>12</td>\n",
              "      <td>12</td>\n",
              "      <td>20151205</td>\n",
              "      <td>eu</td>\n",
              "      <td>\"The EU and its Member States would like to th...</td>\n",
              "    </tr>\n",
              "    <tr>\n",
              "      <th>176</th>\n",
              "      <td>177,2,12,12,20151205,g77china,\"Co-Chairs I hav...</td>\n",
              "      <td>[177, 2, 12, 12, 20151205, g77china, \"Co-Chair...</td>\n",
              "      <td>177</td>\n",
              "      <td>2</td>\n",
              "      <td>12</td>\n",
              "      <td>12</td>\n",
              "      <td>20151205</td>\n",
              "      <td>g77china</td>\n",
              "      <td>\"Co-Chairs I have the honour to speak on behal...</td>\n",
              "    </tr>\n",
              "    <tr>\n",
              "      <th>177</th>\n",
              "      <td>178,2,12,12,20151205,umbrella,\"Co-Chairs, I ha...</td>\n",
              "      <td>[178, 2, 12, 12, 20151205, umbrella, \"Co-Chair...</td>\n",
              "      <td>178</td>\n",
              "      <td>2</td>\n",
              "      <td>12</td>\n",
              "      <td>12</td>\n",
              "      <td>20151205</td>\n",
              "      <td>umbrella</td>\n",
              "      <td>\"Co-Chairs, I have the privilege to deliver th...</td>\n",
              "    </tr>\n",
              "  </tbody>\n",
              "</table>\n",
              "<p>178 rows × 9 columns</p>\n",
              "</div>"
            ],
            "text/plain": [
              "              doc_id,session,part,time,date,group,text  ...                                               text\n",
              "0    1,2,1,1,20130429,ailac,\"Thank you Co-Chairs, I...  ...  \"Thank you Co-Chairs, I have the honor of spea...\n",
              "1    2,2,1,1,20130429,aosis,\"Distinguished Co-Chair...  ...  \"Distinguished Co-Chairs, Excellencies, Collea...\n",
              "2    3,2,1,1,20130429,arab,\"Distinguished Co-Chairs...  ...  \"Distinguished Co-Chairs I have the honor to t...\n",
              "3    4,2,1,1,20130429,eig,\"Mr. Co-Chairs, This stat...  ...  \"Mr. Co-Chairs, This statement is made on beha...\n",
              "4    5,2,1,1,20130429,eu,\"I have the honour to spea...  ...  \"I have the honour to speak on behalf of the E...\n",
              "..                                                 ...  ...                                                ...\n",
              "173  174,2,12,12,20151205,crn,\"Thank you Mr. Co-Cha...  ...  \"Thank you Mr. Co-Chairs, Panama has the honou...\n",
              "174  175,2,12,12,20151205,eig,\"Mr. Co-Chairs, dear ...  ...  \"Mr. Co-Chairs, dear colleagues I have the ple...\n",
              "175  176,2,12,12,20151205,eu,\"The EU and its Member...  ...  \"The EU and its Member States would like to th...\n",
              "176  177,2,12,12,20151205,g77china,\"Co-Chairs I hav...  ...  \"Co-Chairs I have the honour to speak on behal...\n",
              "177  178,2,12,12,20151205,umbrella,\"Co-Chairs, I ha...  ...  \"Co-Chairs, I have the privilege to deliver th...\n",
              "\n",
              "[178 rows x 9 columns]"
            ]
          },
          "metadata": {
            "tags": []
          },
          "execution_count": 11
        }
      ]
    },
    {
      "cell_type": "code",
      "metadata": {
        "id": "bOMwzD7irO42",
        "outputId": "885fc9cc-c705-4ab6-a8bb-405944a76874",
        "colab": {
          "base_uri": "https://localhost:8080/",
          "height": 235
        }
      },
      "source": [
        "type(adp[\"date\"].iloc[0])\n",
        "adp[\"date\"]"
      ],
      "execution_count": null,
      "outputs": [
        {
          "output_type": "execute_result",
          "data": {
            "text/plain": [
              "0      20130429\n",
              "1      20130429\n",
              "2      20130429\n",
              "3      20130429\n",
              "4      20130429\n",
              "         ...   \n",
              "173    20151205\n",
              "174    20151205\n",
              "175    20151205\n",
              "176    20151205\n",
              "177    20151205\n",
              "Name: date, Length: 178, dtype: object"
            ]
          },
          "metadata": {
            "tags": []
          },
          "execution_count": 12
        }
      ]
    },
    {
      "cell_type": "code",
      "metadata": {
        "id": "mndaY1YRqu-x",
        "outputId": "5b70c36f-6548-4c35-e636-a7089dc000c8",
        "colab": {
          "base_uri": "https://localhost:8080/",
          "height": 580
        }
      },
      "source": [
        "adp[\"year\"] = adp[\"date\"].str.slice(start=0, stop=4)\n",
        "adp"
      ],
      "execution_count": null,
      "outputs": [
        {
          "output_type": "execute_result",
          "data": {
            "text/html": [
              "<div>\n",
              "<style scoped>\n",
              "    .dataframe tbody tr th:only-of-type {\n",
              "        vertical-align: middle;\n",
              "    }\n",
              "\n",
              "    .dataframe tbody tr th {\n",
              "        vertical-align: top;\n",
              "    }\n",
              "\n",
              "    .dataframe thead th {\n",
              "        text-align: right;\n",
              "    }\n",
              "</style>\n",
              "<table border=\"1\" class=\"dataframe\">\n",
              "  <thead>\n",
              "    <tr style=\"text-align: right;\">\n",
              "      <th></th>\n",
              "      <th>doc_id,session,part,time,date,group,text</th>\n",
              "      <th>column_list</th>\n",
              "      <th>doc_id</th>\n",
              "      <th>session</th>\n",
              "      <th>part</th>\n",
              "      <th>time</th>\n",
              "      <th>date</th>\n",
              "      <th>group</th>\n",
              "      <th>text</th>\n",
              "      <th>year</th>\n",
              "    </tr>\n",
              "  </thead>\n",
              "  <tbody>\n",
              "    <tr>\n",
              "      <th>0</th>\n",
              "      <td>1,2,1,1,20130429,ailac,\"Thank you Co-Chairs, I...</td>\n",
              "      <td>[1, 2, 1, 1, 20130429, ailac, \"Thank you Co-Ch...</td>\n",
              "      <td>1</td>\n",
              "      <td>2</td>\n",
              "      <td>1</td>\n",
              "      <td>1</td>\n",
              "      <td>20130429</td>\n",
              "      <td>ailac</td>\n",
              "      <td>\"Thank you Co-Chairs, I have the honor of spea...</td>\n",
              "      <td>2013</td>\n",
              "    </tr>\n",
              "    <tr>\n",
              "      <th>1</th>\n",
              "      <td>2,2,1,1,20130429,aosis,\"Distinguished Co-Chair...</td>\n",
              "      <td>[2, 2, 1, 1, 20130429, aosis, \"Distinguished C...</td>\n",
              "      <td>2</td>\n",
              "      <td>2</td>\n",
              "      <td>1</td>\n",
              "      <td>1</td>\n",
              "      <td>20130429</td>\n",
              "      <td>aosis</td>\n",
              "      <td>\"Distinguished Co-Chairs, Excellencies, Collea...</td>\n",
              "      <td>2013</td>\n",
              "    </tr>\n",
              "    <tr>\n",
              "      <th>2</th>\n",
              "      <td>3,2,1,1,20130429,arab,\"Distinguished Co-Chairs...</td>\n",
              "      <td>[3, 2, 1, 1, 20130429, arab, \"Distinguished Co...</td>\n",
              "      <td>3</td>\n",
              "      <td>2</td>\n",
              "      <td>1</td>\n",
              "      <td>1</td>\n",
              "      <td>20130429</td>\n",
              "      <td>arab</td>\n",
              "      <td>\"Distinguished Co-Chairs I have the honor to t...</td>\n",
              "      <td>2013</td>\n",
              "    </tr>\n",
              "    <tr>\n",
              "      <th>3</th>\n",
              "      <td>4,2,1,1,20130429,eig,\"Mr. Co-Chairs, This stat...</td>\n",
              "      <td>[4, 2, 1, 1, 20130429, eig, \"Mr. Co-Chairs,  T...</td>\n",
              "      <td>4</td>\n",
              "      <td>2</td>\n",
              "      <td>1</td>\n",
              "      <td>1</td>\n",
              "      <td>20130429</td>\n",
              "      <td>eig</td>\n",
              "      <td>\"Mr. Co-Chairs, This statement is made on beha...</td>\n",
              "      <td>2013</td>\n",
              "    </tr>\n",
              "    <tr>\n",
              "      <th>4</th>\n",
              "      <td>5,2,1,1,20130429,eu,\"I have the honour to spea...</td>\n",
              "      <td>[5, 2, 1, 1, 20130429, eu, \"I have the honour ...</td>\n",
              "      <td>5</td>\n",
              "      <td>2</td>\n",
              "      <td>1</td>\n",
              "      <td>1</td>\n",
              "      <td>20130429</td>\n",
              "      <td>eu</td>\n",
              "      <td>\"I have the honour to speak on behalf of the E...</td>\n",
              "      <td>2013</td>\n",
              "    </tr>\n",
              "    <tr>\n",
              "      <th>...</th>\n",
              "      <td>...</td>\n",
              "      <td>...</td>\n",
              "      <td>...</td>\n",
              "      <td>...</td>\n",
              "      <td>...</td>\n",
              "      <td>...</td>\n",
              "      <td>...</td>\n",
              "      <td>...</td>\n",
              "      <td>...</td>\n",
              "      <td>...</td>\n",
              "    </tr>\n",
              "    <tr>\n",
              "      <th>173</th>\n",
              "      <td>174,2,12,12,20151205,crn,\"Thank you Mr. Co-Cha...</td>\n",
              "      <td>[174, 2, 12, 12, 20151205, crn, \"Thank you Mr....</td>\n",
              "      <td>174</td>\n",
              "      <td>2</td>\n",
              "      <td>12</td>\n",
              "      <td>12</td>\n",
              "      <td>20151205</td>\n",
              "      <td>crn</td>\n",
              "      <td>\"Thank you Mr. Co-Chairs, Panama has the honou...</td>\n",
              "      <td>2015</td>\n",
              "    </tr>\n",
              "    <tr>\n",
              "      <th>174</th>\n",
              "      <td>175,2,12,12,20151205,eig,\"Mr. Co-Chairs, dear ...</td>\n",
              "      <td>[175, 2, 12, 12, 20151205, eig, \"Mr. Co-Chairs...</td>\n",
              "      <td>175</td>\n",
              "      <td>2</td>\n",
              "      <td>12</td>\n",
              "      <td>12</td>\n",
              "      <td>20151205</td>\n",
              "      <td>eig</td>\n",
              "      <td>\"Mr. Co-Chairs, dear colleagues I have the ple...</td>\n",
              "      <td>2015</td>\n",
              "    </tr>\n",
              "    <tr>\n",
              "      <th>175</th>\n",
              "      <td>176,2,12,12,20151205,eu,\"The EU and its Member...</td>\n",
              "      <td>[176, 2, 12, 12, 20151205, eu, \"The EU and its...</td>\n",
              "      <td>176</td>\n",
              "      <td>2</td>\n",
              "      <td>12</td>\n",
              "      <td>12</td>\n",
              "      <td>20151205</td>\n",
              "      <td>eu</td>\n",
              "      <td>\"The EU and its Member States would like to th...</td>\n",
              "      <td>2015</td>\n",
              "    </tr>\n",
              "    <tr>\n",
              "      <th>176</th>\n",
              "      <td>177,2,12,12,20151205,g77china,\"Co-Chairs I hav...</td>\n",
              "      <td>[177, 2, 12, 12, 20151205, g77china, \"Co-Chair...</td>\n",
              "      <td>177</td>\n",
              "      <td>2</td>\n",
              "      <td>12</td>\n",
              "      <td>12</td>\n",
              "      <td>20151205</td>\n",
              "      <td>g77china</td>\n",
              "      <td>\"Co-Chairs I have the honour to speak on behal...</td>\n",
              "      <td>2015</td>\n",
              "    </tr>\n",
              "    <tr>\n",
              "      <th>177</th>\n",
              "      <td>178,2,12,12,20151205,umbrella,\"Co-Chairs, I ha...</td>\n",
              "      <td>[178, 2, 12, 12, 20151205, umbrella, \"Co-Chair...</td>\n",
              "      <td>178</td>\n",
              "      <td>2</td>\n",
              "      <td>12</td>\n",
              "      <td>12</td>\n",
              "      <td>20151205</td>\n",
              "      <td>umbrella</td>\n",
              "      <td>\"Co-Chairs, I have the privilege to deliver th...</td>\n",
              "      <td>2015</td>\n",
              "    </tr>\n",
              "  </tbody>\n",
              "</table>\n",
              "<p>178 rows × 10 columns</p>\n",
              "</div>"
            ],
            "text/plain": [
              "              doc_id,session,part,time,date,group,text  ...  year\n",
              "0    1,2,1,1,20130429,ailac,\"Thank you Co-Chairs, I...  ...  2013\n",
              "1    2,2,1,1,20130429,aosis,\"Distinguished Co-Chair...  ...  2013\n",
              "2    3,2,1,1,20130429,arab,\"Distinguished Co-Chairs...  ...  2013\n",
              "3    4,2,1,1,20130429,eig,\"Mr. Co-Chairs, This stat...  ...  2013\n",
              "4    5,2,1,1,20130429,eu,\"I have the honour to spea...  ...  2013\n",
              "..                                                 ...  ...   ...\n",
              "173  174,2,12,12,20151205,crn,\"Thank you Mr. Co-Cha...  ...  2015\n",
              "174  175,2,12,12,20151205,eig,\"Mr. Co-Chairs, dear ...  ...  2015\n",
              "175  176,2,12,12,20151205,eu,\"The EU and its Member...  ...  2015\n",
              "176  177,2,12,12,20151205,g77china,\"Co-Chairs I hav...  ...  2015\n",
              "177  178,2,12,12,20151205,umbrella,\"Co-Chairs, I ha...  ...  2015\n",
              "\n",
              "[178 rows x 10 columns]"
            ]
          },
          "metadata": {
            "tags": []
          },
          "execution_count": 13
        }
      ]
    },
    {
      "cell_type": "code",
      "metadata": {
        "id": "tf1Z7d_unEcD",
        "outputId": "3b40fbd8-19c3-47a2-f7bf-e0390e38a194",
        "colab": {
          "base_uri": "https://localhost:8080/",
          "height": 407
        }
      },
      "source": [
        "cols_sub = ['doc_id', 'session', 'part', 'time', 'date', 'year', 'group', 'text']\n",
        "adp_sub = adp[cols_sub]\n",
        "adp_sub"
      ],
      "execution_count": null,
      "outputs": [
        {
          "output_type": "execute_result",
          "data": {
            "text/html": [
              "<div>\n",
              "<style scoped>\n",
              "    .dataframe tbody tr th:only-of-type {\n",
              "        vertical-align: middle;\n",
              "    }\n",
              "\n",
              "    .dataframe tbody tr th {\n",
              "        vertical-align: top;\n",
              "    }\n",
              "\n",
              "    .dataframe thead th {\n",
              "        text-align: right;\n",
              "    }\n",
              "</style>\n",
              "<table border=\"1\" class=\"dataframe\">\n",
              "  <thead>\n",
              "    <tr style=\"text-align: right;\">\n",
              "      <th></th>\n",
              "      <th>doc_id</th>\n",
              "      <th>session</th>\n",
              "      <th>part</th>\n",
              "      <th>time</th>\n",
              "      <th>date</th>\n",
              "      <th>year</th>\n",
              "      <th>group</th>\n",
              "      <th>text</th>\n",
              "    </tr>\n",
              "  </thead>\n",
              "  <tbody>\n",
              "    <tr>\n",
              "      <th>0</th>\n",
              "      <td>1</td>\n",
              "      <td>2</td>\n",
              "      <td>1</td>\n",
              "      <td>1</td>\n",
              "      <td>20130429</td>\n",
              "      <td>2013</td>\n",
              "      <td>ailac</td>\n",
              "      <td>\"Thank you Co-Chairs, I have the honor of spea...</td>\n",
              "    </tr>\n",
              "    <tr>\n",
              "      <th>1</th>\n",
              "      <td>2</td>\n",
              "      <td>2</td>\n",
              "      <td>1</td>\n",
              "      <td>1</td>\n",
              "      <td>20130429</td>\n",
              "      <td>2013</td>\n",
              "      <td>aosis</td>\n",
              "      <td>\"Distinguished Co-Chairs, Excellencies, Collea...</td>\n",
              "    </tr>\n",
              "    <tr>\n",
              "      <th>2</th>\n",
              "      <td>3</td>\n",
              "      <td>2</td>\n",
              "      <td>1</td>\n",
              "      <td>1</td>\n",
              "      <td>20130429</td>\n",
              "      <td>2013</td>\n",
              "      <td>arab</td>\n",
              "      <td>\"Distinguished Co-Chairs I have the honor to t...</td>\n",
              "    </tr>\n",
              "    <tr>\n",
              "      <th>3</th>\n",
              "      <td>4</td>\n",
              "      <td>2</td>\n",
              "      <td>1</td>\n",
              "      <td>1</td>\n",
              "      <td>20130429</td>\n",
              "      <td>2013</td>\n",
              "      <td>eig</td>\n",
              "      <td>\"Mr. Co-Chairs, This statement is made on beha...</td>\n",
              "    </tr>\n",
              "    <tr>\n",
              "      <th>4</th>\n",
              "      <td>5</td>\n",
              "      <td>2</td>\n",
              "      <td>1</td>\n",
              "      <td>1</td>\n",
              "      <td>20130429</td>\n",
              "      <td>2013</td>\n",
              "      <td>eu</td>\n",
              "      <td>\"I have the honour to speak on behalf of the E...</td>\n",
              "    </tr>\n",
              "    <tr>\n",
              "      <th>...</th>\n",
              "      <td>...</td>\n",
              "      <td>...</td>\n",
              "      <td>...</td>\n",
              "      <td>...</td>\n",
              "      <td>...</td>\n",
              "      <td>...</td>\n",
              "      <td>...</td>\n",
              "      <td>...</td>\n",
              "    </tr>\n",
              "    <tr>\n",
              "      <th>173</th>\n",
              "      <td>174</td>\n",
              "      <td>2</td>\n",
              "      <td>12</td>\n",
              "      <td>12</td>\n",
              "      <td>20151205</td>\n",
              "      <td>2015</td>\n",
              "      <td>crn</td>\n",
              "      <td>\"Thank you Mr. Co-Chairs, Panama has the honou...</td>\n",
              "    </tr>\n",
              "    <tr>\n",
              "      <th>174</th>\n",
              "      <td>175</td>\n",
              "      <td>2</td>\n",
              "      <td>12</td>\n",
              "      <td>12</td>\n",
              "      <td>20151205</td>\n",
              "      <td>2015</td>\n",
              "      <td>eig</td>\n",
              "      <td>\"Mr. Co-Chairs, dear colleagues I have the ple...</td>\n",
              "    </tr>\n",
              "    <tr>\n",
              "      <th>175</th>\n",
              "      <td>176</td>\n",
              "      <td>2</td>\n",
              "      <td>12</td>\n",
              "      <td>12</td>\n",
              "      <td>20151205</td>\n",
              "      <td>2015</td>\n",
              "      <td>eu</td>\n",
              "      <td>\"The EU and its Member States would like to th...</td>\n",
              "    </tr>\n",
              "    <tr>\n",
              "      <th>176</th>\n",
              "      <td>177</td>\n",
              "      <td>2</td>\n",
              "      <td>12</td>\n",
              "      <td>12</td>\n",
              "      <td>20151205</td>\n",
              "      <td>2015</td>\n",
              "      <td>g77china</td>\n",
              "      <td>\"Co-Chairs I have the honour to speak on behal...</td>\n",
              "    </tr>\n",
              "    <tr>\n",
              "      <th>177</th>\n",
              "      <td>178</td>\n",
              "      <td>2</td>\n",
              "      <td>12</td>\n",
              "      <td>12</td>\n",
              "      <td>20151205</td>\n",
              "      <td>2015</td>\n",
              "      <td>umbrella</td>\n",
              "      <td>\"Co-Chairs, I have the privilege to deliver th...</td>\n",
              "    </tr>\n",
              "  </tbody>\n",
              "</table>\n",
              "<p>178 rows × 8 columns</p>\n",
              "</div>"
            ],
            "text/plain": [
              "    doc_id session  ...     group                                               text\n",
              "0        1       2  ...     ailac  \"Thank you Co-Chairs, I have the honor of spea...\n",
              "1        2       2  ...     aosis  \"Distinguished Co-Chairs, Excellencies, Collea...\n",
              "2        3       2  ...      arab  \"Distinguished Co-Chairs I have the honor to t...\n",
              "3        4       2  ...       eig  \"Mr. Co-Chairs, This statement is made on beha...\n",
              "4        5       2  ...        eu  \"I have the honour to speak on behalf of the E...\n",
              "..     ...     ...  ...       ...                                                ...\n",
              "173    174       2  ...       crn  \"Thank you Mr. Co-Chairs, Panama has the honou...\n",
              "174    175       2  ...       eig  \"Mr. Co-Chairs, dear colleagues I have the ple...\n",
              "175    176       2  ...        eu  \"The EU and its Member States would like to th...\n",
              "176    177       2  ...  g77china  \"Co-Chairs I have the honour to speak on behal...\n",
              "177    178       2  ...  umbrella  \"Co-Chairs, I have the privilege to deliver th...\n",
              "\n",
              "[178 rows x 8 columns]"
            ]
          },
          "metadata": {
            "tags": []
          },
          "execution_count": 15
        }
      ]
    },
    {
      "cell_type": "code",
      "metadata": {
        "id": "Bqh-8KPGGXO0",
        "outputId": "8972e95b-4a86-44c3-b090-b86f588d46c0",
        "colab": {
          "base_uri": "https://localhost:8080/",
          "height": 72
        }
      },
      "source": [
        "group = np.unique(adp[\"group\"])\n",
        "group"
      ],
      "execution_count": null,
      "outputs": [
        {
          "output_type": "execute_result",
          "data": {
            "text/plain": [
              "array(['ag', 'ailac', 'alba', 'aosis', 'arab', 'basic', 'caricom',\n",
              "       'cartegena', 'crn', 'eig', 'eu', 'g77china', 'ldc', 'lmdc', 'mldc',\n",
              "       'sica', 'umbrella'], dtype=object)"
            ]
          },
          "metadata": {
            "tags": []
          },
          "execution_count": 16
        }
      ]
    },
    {
      "cell_type": "markdown",
      "metadata": {
        "id": "DMI-haK7u3Xl"
      },
      "source": [
        "# Data Description"
      ]
    },
    {
      "cell_type": "code",
      "metadata": {
        "id": "hjzfaeNQFtBm",
        "outputId": "26dc14a4-8eef-447e-a3c8-9ec8b4912f17",
        "colab": {
          "base_uri": "https://localhost:8080/",
          "height": 438
        }
      },
      "source": [
        "# -- Data \n",
        "adp_sub_pt = adp_sub.copy()\n",
        "cols_sub_pt = ['part', 'text']\n",
        "adp_sub_part = adp_sub_pt[cols_sub_pt]\n",
        "adp_sub_part = adp_sub_part.groupby(\"part\").count()\n",
        "adp_sub_part"
      ],
      "execution_count": null,
      "outputs": [
        {
          "output_type": "execute_result",
          "data": {
            "text/html": [
              "<div>\n",
              "<style scoped>\n",
              "    .dataframe tbody tr th:only-of-type {\n",
              "        vertical-align: middle;\n",
              "    }\n",
              "\n",
              "    .dataframe tbody tr th {\n",
              "        vertical-align: top;\n",
              "    }\n",
              "\n",
              "    .dataframe thead th {\n",
              "        text-align: right;\n",
              "    }\n",
              "</style>\n",
              "<table border=\"1\" class=\"dataframe\">\n",
              "  <thead>\n",
              "    <tr style=\"text-align: right;\">\n",
              "      <th></th>\n",
              "      <th>text</th>\n",
              "    </tr>\n",
              "    <tr>\n",
              "      <th>part</th>\n",
              "      <th></th>\n",
              "    </tr>\n",
              "  </thead>\n",
              "  <tbody>\n",
              "    <tr>\n",
              "      <th>1</th>\n",
              "      <td>8</td>\n",
              "    </tr>\n",
              "    <tr>\n",
              "      <th>10</th>\n",
              "      <td>13</td>\n",
              "    </tr>\n",
              "    <tr>\n",
              "      <th>11</th>\n",
              "      <td>11</td>\n",
              "    </tr>\n",
              "    <tr>\n",
              "      <th>12</th>\n",
              "      <td>13</td>\n",
              "    </tr>\n",
              "    <tr>\n",
              "      <th>2</th>\n",
              "      <td>28</td>\n",
              "    </tr>\n",
              "    <tr>\n",
              "      <th>3</th>\n",
              "      <td>13</td>\n",
              "    </tr>\n",
              "    <tr>\n",
              "      <th>4</th>\n",
              "      <td>21</td>\n",
              "    </tr>\n",
              "    <tr>\n",
              "      <th>5</th>\n",
              "      <td>13</td>\n",
              "    </tr>\n",
              "    <tr>\n",
              "      <th>6</th>\n",
              "      <td>17</td>\n",
              "    </tr>\n",
              "    <tr>\n",
              "      <th>7</th>\n",
              "      <td>13</td>\n",
              "    </tr>\n",
              "    <tr>\n",
              "      <th>8</th>\n",
              "      <td>14</td>\n",
              "    </tr>\n",
              "    <tr>\n",
              "      <th>9</th>\n",
              "      <td>14</td>\n",
              "    </tr>\n",
              "  </tbody>\n",
              "</table>\n",
              "</div>"
            ],
            "text/plain": [
              "      text\n",
              "part      \n",
              "1        8\n",
              "10      13\n",
              "11      11\n",
              "12      13\n",
              "2       28\n",
              "3       13\n",
              "4       21\n",
              "5       13\n",
              "6       17\n",
              "7       13\n",
              "8       14\n",
              "9       14"
            ]
          },
          "metadata": {
            "tags": []
          },
          "execution_count": 17
        }
      ]
    },
    {
      "cell_type": "code",
      "metadata": {
        "id": "ktE99v1Y0ECX",
        "outputId": "a1e03c49-6f5c-4e83-cbf7-f6288751f8eb",
        "colab": {
          "base_uri": "https://localhost:8080/",
          "height": 316
        }
      },
      "source": [
        "ax_pt = adp_sub_part.sort_values(\"text\", ascending=False).reset_index().plot.bar(\"part\", \"text\")\n",
        "xlab = ax_pt.set_xlabel(\"Part\")\n",
        "ylab = ax_pt.set_ylabel(\"Number of ADP documents\")\n",
        "ax_pt.set_title(\"Number of ADP documents by part (2013-2015)\")"
      ],
      "execution_count": null,
      "outputs": [
        {
          "output_type": "execute_result",
          "data": {
            "text/plain": [
              "Text(0.5, 1.0, 'Number of ADP documents by part (2013-2015)')"
            ]
          },
          "metadata": {
            "tags": []
          },
          "execution_count": 18
        },
        {
          "output_type": "display_data",
          "data": {
            "image/png": "[encoded data removed]",
            "text/plain": [
              "<Figure size 432x288 with 1 Axes>"
            ]
          },
          "metadata": {
            "tags": [],
            "needs_background": "light"
          }
        }
      ]
    },
    {
      "cell_type": "code",
      "metadata": {
        "id": "8aiJEmg6qsWx",
        "outputId": "b423570d-68e4-42f1-8e73-886858a0ffa2",
        "colab": {
          "base_uri": "https://localhost:8080/",
          "height": 168
        }
      },
      "source": [
        "adp_sub_yr = adp_sub.copy()\n",
        "cols_sub_yr = ['year', 'text']\n",
        "adp_sub_year = adp_sub_yr[cols_sub_yr]\n",
        "adp_sub_year = adp_sub_year.groupby(\"year\").count()\n",
        "adp_sub_year"
      ],
      "execution_count": null,
      "outputs": [
        {
          "output_type": "execute_result",
          "data": {
            "text/html": [
              "<div>\n",
              "<style scoped>\n",
              "    .dataframe tbody tr th:only-of-type {\n",
              "        vertical-align: middle;\n",
              "    }\n",
              "\n",
              "    .dataframe tbody tr th {\n",
              "        vertical-align: top;\n",
              "    }\n",
              "\n",
              "    .dataframe thead th {\n",
              "        text-align: right;\n",
              "    }\n",
              "</style>\n",
              "<table border=\"1\" class=\"dataframe\">\n",
              "  <thead>\n",
              "    <tr style=\"text-align: right;\">\n",
              "      <th></th>\n",
              "      <th>text</th>\n",
              "    </tr>\n",
              "    <tr>\n",
              "      <th>year</th>\n",
              "      <th></th>\n",
              "    </tr>\n",
              "  </thead>\n",
              "  <tbody>\n",
              "    <tr>\n",
              "      <th>2013</th>\n",
              "      <td>49</td>\n",
              "    </tr>\n",
              "    <tr>\n",
              "      <th>2014</th>\n",
              "      <td>64</td>\n",
              "    </tr>\n",
              "    <tr>\n",
              "      <th>2015</th>\n",
              "      <td>65</td>\n",
              "    </tr>\n",
              "  </tbody>\n",
              "</table>\n",
              "</div>"
            ],
            "text/plain": [
              "      text\n",
              "year      \n",
              "2013    49\n",
              "2014    64\n",
              "2015    65"
            ]
          },
          "metadata": {
            "tags": []
          },
          "execution_count": 19
        }
      ]
    },
    {
      "cell_type": "code",
      "metadata": {
        "id": "XNdhvb7svlhZ",
        "outputId": "6ede07e1-3221-431d-ad4b-3e51691deb33",
        "colab": {
          "base_uri": "https://localhost:8080/",
          "height": 329
        }
      },
      "source": [
        "ax_yr = adp_sub_year.sort_values(\"text\").reset_index().plot.bar(\"year\", \"text\")\n",
        "xlab = ax_yr.set_xlabel(\"Year\")\n",
        "ylab = ax_yr.set_ylabel(\"Number of ADP documents\")\n",
        "ax_yr.set_title(\"Number of ADP documents by year (2013-2015)\")"
      ],
      "execution_count": null,
      "outputs": [
        {
          "output_type": "execute_result",
          "data": {
            "text/plain": [
              "Text(0.5, 1.0, 'Number of ADP documents by year (2013-2015)')"
            ]
          },
          "metadata": {
            "tags": []
          },
          "execution_count": 20
        },
        {
          "output_type": "display_data",
          "data": {
            "image/png": "[encoded data removed]",
            "text/plain": [
              "<Figure size 432x288 with 1 Axes>"
            ]
          },
          "metadata": {
            "tags": [],
            "needs_background": "light"
          }
        }
      ]
    },
    {
      "cell_type": "code",
      "metadata": {
        "id": "_l_IzzhyFttW",
        "outputId": "e90a877b-44fe-42c9-d5fc-9c9c17d801ee",
        "colab": {
          "base_uri": "https://localhost:8080/",
          "height": 588
        }
      },
      "source": [
        "adp_sub_gr = adp_sub.copy()\n",
        "cols_sub_gr = ['group', 'text']\n",
        "adp_sub_group = adp_sub_gr[cols_sub_gr]\n",
        "adp_sub_group = adp_sub_group.groupby(\"group\").count()\n",
        "adp_sub_group"
      ],
      "execution_count": null,
      "outputs": [
        {
          "output_type": "execute_result",
          "data": {
            "text/html": [
              "<div>\n",
              "<style scoped>\n",
              "    .dataframe tbody tr th:only-of-type {\n",
              "        vertical-align: middle;\n",
              "    }\n",
              "\n",
              "    .dataframe tbody tr th {\n",
              "        vertical-align: top;\n",
              "    }\n",
              "\n",
              "    .dataframe thead th {\n",
              "        text-align: right;\n",
              "    }\n",
              "</style>\n",
              "<table border=\"1\" class=\"dataframe\">\n",
              "  <thead>\n",
              "    <tr style=\"text-align: right;\">\n",
              "      <th></th>\n",
              "      <th>text</th>\n",
              "    </tr>\n",
              "    <tr>\n",
              "      <th>group</th>\n",
              "      <th></th>\n",
              "    </tr>\n",
              "  </thead>\n",
              "  <tbody>\n",
              "    <tr>\n",
              "      <th>ag</th>\n",
              "      <td>12</td>\n",
              "    </tr>\n",
              "    <tr>\n",
              "      <th>ailac</th>\n",
              "      <td>16</td>\n",
              "    </tr>\n",
              "    <tr>\n",
              "      <th>alba</th>\n",
              "      <td>9</td>\n",
              "    </tr>\n",
              "    <tr>\n",
              "      <th>aosis</th>\n",
              "      <td>15</td>\n",
              "    </tr>\n",
              "    <tr>\n",
              "      <th>arab</th>\n",
              "      <td>3</td>\n",
              "    </tr>\n",
              "    <tr>\n",
              "      <th>basic</th>\n",
              "      <td>13</td>\n",
              "    </tr>\n",
              "    <tr>\n",
              "      <th>caricom</th>\n",
              "      <td>2</td>\n",
              "    </tr>\n",
              "    <tr>\n",
              "      <th>cartegena</th>\n",
              "      <td>1</td>\n",
              "    </tr>\n",
              "    <tr>\n",
              "      <th>crn</th>\n",
              "      <td>10</td>\n",
              "    </tr>\n",
              "    <tr>\n",
              "      <th>eig</th>\n",
              "      <td>13</td>\n",
              "    </tr>\n",
              "    <tr>\n",
              "      <th>eu</th>\n",
              "      <td>17</td>\n",
              "    </tr>\n",
              "    <tr>\n",
              "      <th>g77china</th>\n",
              "      <td>19</td>\n",
              "    </tr>\n",
              "    <tr>\n",
              "      <th>ldc</th>\n",
              "      <td>11</td>\n",
              "    </tr>\n",
              "    <tr>\n",
              "      <th>lmdc</th>\n",
              "      <td>13</td>\n",
              "    </tr>\n",
              "    <tr>\n",
              "      <th>mldc</th>\n",
              "      <td>1</td>\n",
              "    </tr>\n",
              "    <tr>\n",
              "      <th>sica</th>\n",
              "      <td>8</td>\n",
              "    </tr>\n",
              "    <tr>\n",
              "      <th>umbrella</th>\n",
              "      <td>15</td>\n",
              "    </tr>\n",
              "  </tbody>\n",
              "</table>\n",
              "</div>"
            ],
            "text/plain": [
              "           text\n",
              "group          \n",
              "ag           12\n",
              "ailac        16\n",
              "alba          9\n",
              "aosis        15\n",
              "arab          3\n",
              "basic        13\n",
              "caricom       2\n",
              "cartegena     1\n",
              "crn          10\n",
              "eig          13\n",
              "eu           17\n",
              "g77china     19\n",
              "ldc          11\n",
              "lmdc         13\n",
              "mldc          1\n",
              "sica          8\n",
              "umbrella     15"
            ]
          },
          "metadata": {
            "tags": []
          },
          "execution_count": 21
        }
      ]
    },
    {
      "cell_type": "code",
      "metadata": {
        "id": "CXtHmAv4ERyz",
        "outputId": "665d3961-b9ce-4ac8-9664-abc6d8f0bedc",
        "colab": {
          "base_uri": "https://localhost:8080/",
          "height": 355
        }
      },
      "source": [
        "ax_gr = adp_sub_group.sort_values(\"text\", ascending=False).reset_index().plot.bar(\"group\", \"text\")\n",
        "xlab = ax_gr.set_xlabel(\"Group\")\n",
        "ylab = ax_gr.set_ylabel(\"Number of statements\")\n",
        "ax_gr.set_title(\"Number of statements by group (2013-2015)\")"
      ],
      "execution_count": null,
      "outputs": [
        {
          "output_type": "execute_result",
          "data": {
            "text/plain": [
              "Text(0.5, 1.0, 'Number of statements by group (2013-2015)')"
            ]
          },
          "metadata": {
            "tags": []
          },
          "execution_count": 22
        },
        {
          "output_type": "display_data",
          "data": {
            "image/png": "[encoded data removed]",
            "text/plain": [
              "<Figure size 432x288 with 1 Axes>"
            ]
          },
          "metadata": {
            "tags": [],
            "needs_background": "light"
          }
        }
      ]
    },
    {
      "cell_type": "markdown",
      "metadata": {
        "id": "iWY0999NEnff"
      },
      "source": [
        "# Text Analysis (Practice)\n",
        "\n",
        "조진희(2019)는 텍스트 스케일링 모형인 워드피쉬(wordfish)를 활용하여 1988년 부터 2003년 사이에 창당된 대한민국정당의 정강정책을 분석하였다. 텍스트 스케일링 모형은 정당들의 이념적인 위치를 횡단, 종단면적으로 비교하기에 유용하다. \n",
        "\n",
        "단어들의 상대적인 빈도를 비교하면 문서들의 이념적 위치를 추정할 수 있다. 그룹 i의 ADP document에서 단어 j가 언급되는 횟수를 C_ij라고 하고, 이것이 평균인 ij인 포아송 분포를 따른다고 가정하자. 다른 세개으 ㅣ파라미터가 추정되는데 정당 고정효과, 단어 고정효과, 정당의 아념적 위치 차별화 정도가 있다. 이 모형은 기대극화 알고리즘에 의해 추정될 수 있다. \n",
        "\n",
        "모형 추정 결과를 통해 정당들의 이념적 위치를 충분히 차별적으로 표현하고 있음을 알 수 있다. 추정 결과를 바탕으로 정당 경쟁의 주요 이슈 차원을 밝히고 정당 양극화의 양상을 논의한다. \n",
        "\n",
        "참고문헌:  조진희(2019) 정강정책으로 본 대한민국 정당 이념지도 1988-2003, 의정논총, 14:1, 5-27\n",
        "\n"
      ]
    },
    {
      "cell_type": "code",
      "metadata": {
        "id": "zEbFLnbKD8Te",
        "outputId": "ecdec32f-e407-4c54-ae08-7e25efdfe1da",
        "colab": {
          "base_uri": "https://localhost:8080/",
          "height": 235
        }
      },
      "source": [
        "adp_sub_txt = adp_sub.copy()\n",
        "\n",
        "# text 열에서 \"climate\", \"climate change\" 단어가 포함된 행 찾기 \n",
        "# 단어는 바꿀 수 있음. 이를 통해 특정 단어 빈도수 찾을 수 있음. \n",
        "print(adp_sub_txt[\"text\"].str.contains(\"climate\", \"climate change\"))"
      ],
      "execution_count": null,
      "outputs": [
        {
          "output_type": "stream",
          "text": [
            "0       True\n",
            "1       True\n",
            "2       True\n",
            "3       True\n",
            "4       True\n",
            "       ...  \n",
            "173     True\n",
            "174    False\n",
            "175    False\n",
            "176     True\n",
            "177     True\n",
            "Name: text, Length: 178, dtype: bool\n"
          ],
          "name": "stdout"
        }
      ]
    },
    {
      "cell_type": "code",
      "metadata": {
        "id": "Nr4onYArKOHB"
      },
      "source": [
        ""
      ],
      "execution_count": null,
      "outputs": []
    },
    {
      "cell_type": "code",
      "metadata": {
        "id": "ujBQgTJ7EkUE",
        "outputId": "e7abc0b2-2ec4-4184-943f-45b9fc61a20c",
        "colab": {
          "base_uri": "https://localhost:8080/",
          "height": 90
        }
      },
      "source": [
        "# text 열에서 \"climate\", \"climate change\" 단어가 포함된 수 및 비율 계산\n",
        "nclimate = adp_sub_txt[\"text\"].str.contains(\"climate\").sum()\n",
        "nclimatec = adp_sub_txt[\"text\"].str.contains(\"climate change\").sum()\n",
        "nall = len(adp_sub_txt[\"text\"])\n",
        "print(nclimate)\n",
        "print(nclimatec)\n",
        "print(nall)\n",
        "print(round(nclimate/nall,2))"
      ],
      "execution_count": null,
      "outputs": [
        {
          "output_type": "stream",
          "text": [
            "137\n",
            "118\n",
            "178\n",
            "0.77\n"
          ],
          "name": "stdout"
        }
      ]
    },
    {
      "cell_type": "code",
      "metadata": {
        "id": "Bim1qnAx-liv",
        "outputId": "20bb6483-cff4-4a2f-c6d5-14899e3d6dff",
        "colab": {
          "base_uri": "https://localhost:8080/",
          "height": 407
        }
      },
      "source": [
        "# 문자열 데이터 처리 위해 lower() 사용\n",
        "adp_sub_txt = adp_sub.copy()\n",
        "type(adp_sub_txt[\"text\"].iloc[0])\n",
        "\n",
        "adp_sub_txt[\"text\"].iloc[0] = adp_sub_txt[\"text\"].iloc[0].lower()\n",
        "adp_sub_txt"
      ],
      "execution_count": null,
      "outputs": [
        {
          "output_type": "execute_result",
          "data": {
            "text/html": [
              "<div>\n",
              "<style scoped>\n",
              "    .dataframe tbody tr th:only-of-type {\n",
              "        vertical-align: middle;\n",
              "    }\n",
              "\n",
              "    .dataframe tbody tr th {\n",
              "        vertical-align: top;\n",
              "    }\n",
              "\n",
              "    .dataframe thead th {\n",
              "        text-align: right;\n",
              "    }\n",
              "</style>\n",
              "<table border=\"1\" class=\"dataframe\">\n",
              "  <thead>\n",
              "    <tr style=\"text-align: right;\">\n",
              "      <th></th>\n",
              "      <th>doc_id</th>\n",
              "      <th>session</th>\n",
              "      <th>part</th>\n",
              "      <th>time</th>\n",
              "      <th>date</th>\n",
              "      <th>year</th>\n",
              "      <th>group</th>\n",
              "      <th>text</th>\n",
              "    </tr>\n",
              "  </thead>\n",
              "  <tbody>\n",
              "    <tr>\n",
              "      <th>0</th>\n",
              "      <td>1</td>\n",
              "      <td>2</td>\n",
              "      <td>1</td>\n",
              "      <td>1</td>\n",
              "      <td>20130429</td>\n",
              "      <td>2013</td>\n",
              "      <td>ailac</td>\n",
              "      <td>\"thank you co-chairs, i have the honor of spea...</td>\n",
              "    </tr>\n",
              "    <tr>\n",
              "      <th>1</th>\n",
              "      <td>2</td>\n",
              "      <td>2</td>\n",
              "      <td>1</td>\n",
              "      <td>1</td>\n",
              "      <td>20130429</td>\n",
              "      <td>2013</td>\n",
              "      <td>aosis</td>\n",
              "      <td>\"Distinguished Co-Chairs, Excellencies, Collea...</td>\n",
              "    </tr>\n",
              "    <tr>\n",
              "      <th>2</th>\n",
              "      <td>3</td>\n",
              "      <td>2</td>\n",
              "      <td>1</td>\n",
              "      <td>1</td>\n",
              "      <td>20130429</td>\n",
              "      <td>2013</td>\n",
              "      <td>arab</td>\n",
              "      <td>\"Distinguished Co-Chairs I have the honor to t...</td>\n",
              "    </tr>\n",
              "    <tr>\n",
              "      <th>3</th>\n",
              "      <td>4</td>\n",
              "      <td>2</td>\n",
              "      <td>1</td>\n",
              "      <td>1</td>\n",
              "      <td>20130429</td>\n",
              "      <td>2013</td>\n",
              "      <td>eig</td>\n",
              "      <td>\"Mr. Co-Chairs, This statement is made on beha...</td>\n",
              "    </tr>\n",
              "    <tr>\n",
              "      <th>4</th>\n",
              "      <td>5</td>\n",
              "      <td>2</td>\n",
              "      <td>1</td>\n",
              "      <td>1</td>\n",
              "      <td>20130429</td>\n",
              "      <td>2013</td>\n",
              "      <td>eu</td>\n",
              "      <td>\"I have the honour to speak on behalf of the E...</td>\n",
              "    </tr>\n",
              "    <tr>\n",
              "      <th>...</th>\n",
              "      <td>...</td>\n",
              "      <td>...</td>\n",
              "      <td>...</td>\n",
              "      <td>...</td>\n",
              "      <td>...</td>\n",
              "      <td>...</td>\n",
              "      <td>...</td>\n",
              "      <td>...</td>\n",
              "    </tr>\n",
              "    <tr>\n",
              "      <th>173</th>\n",
              "      <td>174</td>\n",
              "      <td>2</td>\n",
              "      <td>12</td>\n",
              "      <td>12</td>\n",
              "      <td>20151205</td>\n",
              "      <td>2015</td>\n",
              "      <td>crn</td>\n",
              "      <td>\"Thank you Mr. Co-Chairs, Panama has the honou...</td>\n",
              "    </tr>\n",
              "    <tr>\n",
              "      <th>174</th>\n",
              "      <td>175</td>\n",
              "      <td>2</td>\n",
              "      <td>12</td>\n",
              "      <td>12</td>\n",
              "      <td>20151205</td>\n",
              "      <td>2015</td>\n",
              "      <td>eig</td>\n",
              "      <td>\"Mr. Co-Chairs, dear colleagues I have the ple...</td>\n",
              "    </tr>\n",
              "    <tr>\n",
              "      <th>175</th>\n",
              "      <td>176</td>\n",
              "      <td>2</td>\n",
              "      <td>12</td>\n",
              "      <td>12</td>\n",
              "      <td>20151205</td>\n",
              "      <td>2015</td>\n",
              "      <td>eu</td>\n",
              "      <td>\"The EU and its Member States would like to th...</td>\n",
              "    </tr>\n",
              "    <tr>\n",
              "      <th>176</th>\n",
              "      <td>177</td>\n",
              "      <td>2</td>\n",
              "      <td>12</td>\n",
              "      <td>12</td>\n",
              "      <td>20151205</td>\n",
              "      <td>2015</td>\n",
              "      <td>g77china</td>\n",
              "      <td>\"Co-Chairs I have the honour to speak on behal...</td>\n",
              "    </tr>\n",
              "    <tr>\n",
              "      <th>177</th>\n",
              "      <td>178</td>\n",
              "      <td>2</td>\n",
              "      <td>12</td>\n",
              "      <td>12</td>\n",
              "      <td>20151205</td>\n",
              "      <td>2015</td>\n",
              "      <td>umbrella</td>\n",
              "      <td>\"Co-Chairs, I have the privilege to deliver th...</td>\n",
              "    </tr>\n",
              "  </tbody>\n",
              "</table>\n",
              "<p>178 rows × 8 columns</p>\n",
              "</div>"
            ],
            "text/plain": [
              "    doc_id session  ...     group                                               text\n",
              "0        1       2  ...     ailac  \"thank you co-chairs, i have the honor of spea...\n",
              "1        2       2  ...     aosis  \"Distinguished Co-Chairs, Excellencies, Collea...\n",
              "2        3       2  ...      arab  \"Distinguished Co-Chairs I have the honor to t...\n",
              "3        4       2  ...       eig  \"Mr. Co-Chairs, This statement is made on beha...\n",
              "4        5       2  ...        eu  \"I have the honour to speak on behalf of the E...\n",
              "..     ...     ...  ...       ...                                                ...\n",
              "173    174       2  ...       crn  \"Thank you Mr. Co-Chairs, Panama has the honou...\n",
              "174    175       2  ...       eig  \"Mr. Co-Chairs, dear colleagues I have the ple...\n",
              "175    176       2  ...        eu  \"The EU and its Member States would like to th...\n",
              "176    177       2  ...  g77china  \"Co-Chairs I have the honour to speak on behal...\n",
              "177    178       2  ...  umbrella  \"Co-Chairs, I have the privilege to deliver th...\n",
              "\n",
              "[178 rows x 8 columns]"
            ]
          },
          "metadata": {
            "tags": []
          },
          "execution_count": 25
        }
      ]
    },
    {
      "cell_type": "code",
      "metadata": {
        "id": "7NG-v7C_7DJ2",
        "outputId": "34ed1fb0-8f30-470d-e2f5-ba75c6f9676e",
        "colab": {
          "base_uri": "https://localhost:8080/",
          "height": 35
        }
      },
      "source": [
        "adp_sub_txt.index"
      ],
      "execution_count": null,
      "outputs": [
        {
          "output_type": "execute_result",
          "data": {
            "text/plain": [
              "RangeIndex(start=0, stop=178, step=1)"
            ]
          },
          "metadata": {
            "tags": []
          },
          "execution_count": 56
        }
      ]
    },
    {
      "cell_type": "code",
      "metadata": {
        "id": "LqprQIUJ4uXC"
      },
      "source": [
        "for ii in range(0, 178):\n",
        "  adp_sub_txt[\"text\"].iloc[ii] = adp_sub_txt[\"text\"].iloc[ii].lower() "
      ],
      "execution_count": null,
      "outputs": []
    },
    {
      "cell_type": "code",
      "metadata": {
        "id": "QvmzOxgUIuZG",
        "outputId": "61000091-330d-485b-e334-3e2efd6ba747",
        "colab": {
          "base_uri": "https://localhost:8080/",
          "height": 407
        }
      },
      "source": [
        "adp_sub_txt"
      ],
      "execution_count": null,
      "outputs": [
        {
          "output_type": "execute_result",
          "data": {
            "text/html": [
              "<div>\n",
              "<style scoped>\n",
              "    .dataframe tbody tr th:only-of-type {\n",
              "        vertical-align: middle;\n",
              "    }\n",
              "\n",
              "    .dataframe tbody tr th {\n",
              "        vertical-align: top;\n",
              "    }\n",
              "\n",
              "    .dataframe thead th {\n",
              "        text-align: right;\n",
              "    }\n",
              "</style>\n",
              "<table border=\"1\" class=\"dataframe\">\n",
              "  <thead>\n",
              "    <tr style=\"text-align: right;\">\n",
              "      <th></th>\n",
              "      <th>doc_id</th>\n",
              "      <th>session</th>\n",
              "      <th>part</th>\n",
              "      <th>time</th>\n",
              "      <th>date</th>\n",
              "      <th>year</th>\n",
              "      <th>group</th>\n",
              "      <th>text</th>\n",
              "    </tr>\n",
              "  </thead>\n",
              "  <tbody>\n",
              "    <tr>\n",
              "      <th>0</th>\n",
              "      <td>1</td>\n",
              "      <td>2</td>\n",
              "      <td>1</td>\n",
              "      <td>1</td>\n",
              "      <td>20130429</td>\n",
              "      <td>2013</td>\n",
              "      <td>ailac</td>\n",
              "      <td>\"thank you co-chairs, i have the honor of spea...</td>\n",
              "    </tr>\n",
              "    <tr>\n",
              "      <th>1</th>\n",
              "      <td>2</td>\n",
              "      <td>2</td>\n",
              "      <td>1</td>\n",
              "      <td>1</td>\n",
              "      <td>20130429</td>\n",
              "      <td>2013</td>\n",
              "      <td>aosis</td>\n",
              "      <td>\"distinguished co-chairs, excellencies, collea...</td>\n",
              "    </tr>\n",
              "    <tr>\n",
              "      <th>2</th>\n",
              "      <td>3</td>\n",
              "      <td>2</td>\n",
              "      <td>1</td>\n",
              "      <td>1</td>\n",
              "      <td>20130429</td>\n",
              "      <td>2013</td>\n",
              "      <td>arab</td>\n",
              "      <td>\"distinguished co-chairs i have the honor to t...</td>\n",
              "    </tr>\n",
              "    <tr>\n",
              "      <th>3</th>\n",
              "      <td>4</td>\n",
              "      <td>2</td>\n",
              "      <td>1</td>\n",
              "      <td>1</td>\n",
              "      <td>20130429</td>\n",
              "      <td>2013</td>\n",
              "      <td>eig</td>\n",
              "      <td>\"mr. co-chairs, this statement is made on beha...</td>\n",
              "    </tr>\n",
              "    <tr>\n",
              "      <th>4</th>\n",
              "      <td>5</td>\n",
              "      <td>2</td>\n",
              "      <td>1</td>\n",
              "      <td>1</td>\n",
              "      <td>20130429</td>\n",
              "      <td>2013</td>\n",
              "      <td>eu</td>\n",
              "      <td>\"i have the honour to speak on behalf of the e...</td>\n",
              "    </tr>\n",
              "    <tr>\n",
              "      <th>...</th>\n",
              "      <td>...</td>\n",
              "      <td>...</td>\n",
              "      <td>...</td>\n",
              "      <td>...</td>\n",
              "      <td>...</td>\n",
              "      <td>...</td>\n",
              "      <td>...</td>\n",
              "      <td>...</td>\n",
              "    </tr>\n",
              "    <tr>\n",
              "      <th>173</th>\n",
              "      <td>174</td>\n",
              "      <td>2</td>\n",
              "      <td>12</td>\n",
              "      <td>12</td>\n",
              "      <td>20151205</td>\n",
              "      <td>2015</td>\n",
              "      <td>crn</td>\n",
              "      <td>\"thank you mr. co-chairs, panama has the honou...</td>\n",
              "    </tr>\n",
              "    <tr>\n",
              "      <th>174</th>\n",
              "      <td>175</td>\n",
              "      <td>2</td>\n",
              "      <td>12</td>\n",
              "      <td>12</td>\n",
              "      <td>20151205</td>\n",
              "      <td>2015</td>\n",
              "      <td>eig</td>\n",
              "      <td>\"mr. co-chairs, dear colleagues i have the ple...</td>\n",
              "    </tr>\n",
              "    <tr>\n",
              "      <th>175</th>\n",
              "      <td>176</td>\n",
              "      <td>2</td>\n",
              "      <td>12</td>\n",
              "      <td>12</td>\n",
              "      <td>20151205</td>\n",
              "      <td>2015</td>\n",
              "      <td>eu</td>\n",
              "      <td>\"the eu and its member states would like to th...</td>\n",
              "    </tr>\n",
              "    <tr>\n",
              "      <th>176</th>\n",
              "      <td>177</td>\n",
              "      <td>2</td>\n",
              "      <td>12</td>\n",
              "      <td>12</td>\n",
              "      <td>20151205</td>\n",
              "      <td>2015</td>\n",
              "      <td>g77china</td>\n",
              "      <td>\"co-chairs i have the honour to speak on behal...</td>\n",
              "    </tr>\n",
              "    <tr>\n",
              "      <th>177</th>\n",
              "      <td>178</td>\n",
              "      <td>2</td>\n",
              "      <td>12</td>\n",
              "      <td>12</td>\n",
              "      <td>20151205</td>\n",
              "      <td>2015</td>\n",
              "      <td>umbrella</td>\n",
              "      <td>\"co-chairs, i have the privilege to deliver th...</td>\n",
              "    </tr>\n",
              "  </tbody>\n",
              "</table>\n",
              "<p>178 rows × 8 columns</p>\n",
              "</div>"
            ],
            "text/plain": [
              "    doc_id session  ...     group                                               text\n",
              "0        1       2  ...     ailac  \"thank you co-chairs, i have the honor of spea...\n",
              "1        2       2  ...     aosis  \"distinguished co-chairs, excellencies, collea...\n",
              "2        3       2  ...      arab  \"distinguished co-chairs i have the honor to t...\n",
              "3        4       2  ...       eig  \"mr. co-chairs, this statement is made on beha...\n",
              "4        5       2  ...        eu  \"i have the honour to speak on behalf of the e...\n",
              "..     ...     ...  ...       ...                                                ...\n",
              "173    174       2  ...       crn  \"thank you mr. co-chairs, panama has the honou...\n",
              "174    175       2  ...       eig  \"mr. co-chairs, dear colleagues i have the ple...\n",
              "175    176       2  ...        eu  \"the eu and its member states would like to th...\n",
              "176    177       2  ...  g77china  \"co-chairs i have the honour to speak on behal...\n",
              "177    178       2  ...  umbrella  \"co-chairs, i have the privilege to deliver th...\n",
              "\n",
              "[178 rows x 8 columns]"
            ]
          },
          "metadata": {
            "tags": []
          },
          "execution_count": 73
        }
      ]
    },
    {
      "cell_type": "code",
      "metadata": {
        "id": "KzKkudtwJMPN"
      },
      "source": [
        "adp_sub_txt.to_csv('/content/drive/My Drive/BWRN-ADP/data/adp_low_csv.csv')"
      ],
      "execution_count": null,
      "outputs": []
    },
    {
      "cell_type": "code",
      "metadata": {
        "id": "cQ6Db7OVBmS5",
        "outputId": "706e7708-014d-45b6-b0f9-2bd4c97c2248",
        "colab": {
          "base_uri": "https://localhost:8080/",
          "height": 763
        }
      },
      "source": [
        "# Test: 문자 수준에서 text 수 계산\n",
        "# 단어 수준으로 바꾸려면 module 찾아봐야함\n",
        "frequency = {}\n",
        "\n",
        "for word in adp_sub_txt[\"text\"].iloc[0]:\n",
        "    count = frequency.get(word,0)\n",
        "    frequency[word] = count + 1\n",
        "\n",
        "frequency_list = frequency.keys()\n",
        "\n",
        "for words in frequency_list:\n",
        "  print(words, frequency[words])"
      ],
      "execution_count": null,
      "outputs": [
        {
          "output_type": "stream",
          "text": [
            "\" 2\n",
            "t 382\n",
            "h 183\n",
            "a 315\n",
            "n 321\n",
            "k 16\n",
            "  821\n",
            "y 41\n",
            "o 330\n",
            "u 121\n",
            "c 151\n",
            "- 1\n",
            "i 338\n",
            "r 225\n",
            "s 242\n",
            ", 29\n",
            "v 54\n",
            "e 541\n",
            "f 93\n",
            "p 94\n",
            "g 78\n",
            "b 54\n",
            "l 172\n",
            "d 118\n",
            "m 84\n",
            ") 1\n",
            ". 34\n",
            "w 84\n",
            "j 11\n",
            "z 5\n",
            "x 8\n",
            "q 1\n",
            "2 5\n",
            "? 3\n",
            ": 1\n",
            "; 2\n",
            "0 2\n",
            "1 2\n",
            "3 1\n",
            "5 2\n",
            "4 1\n"
          ],
          "name": "stdout"
        }
      ]
    },
    {
      "cell_type": "markdown",
      "metadata": {
        "id": "vL1-ns1kLWPX"
      },
      "source": [
        "# Machine Learning (TBC)\n",
        "\n",
        "\n",
        "**텍스트 마이닝**\n",
        "\n",
        "대량의 텍스트 데이터셋에서 규칙들을 찾아내는 것, 문자로 된 다른 자료들로부터 자동적으로 정보를 추출하는 이전에 알려지지 않은 새로운 정보의 발견\n",
        "\n",
        "1. 요소 단위에 따른 접근: 문자 수준, 단어 수준, 구 수준, 문장 수준, 초록 수준, 전문 수준, 전체 문헌집단 수준\n",
        "2. 기법적인 측면에서의 접근: 지도학습 (supervised learning), 비지도학습 (unsupervised learning)\n",
        "\n",
        "**텍스트 마이닝 파이썬 패키지 7가지**\n",
        "\n",
        "beautifulsoup4, JPype1, pygame, simplejson, Pytagcloud, Twitter, koLNPy\n",
        "\n",
        "* beautifulsoup4: Beautiful Soup is a Python library for pulling data out of HTML and XML files.\n",
        "\n",
        "**Top 10 Python Libraries for Natural Language Processing (2018)** [Link](https://kleiber.me/blog/2018/02/25/top-10-python-nlp-libraries-2018/)\n",
        "* spaCy: Extremely optimized NLP library that is meant to be operated together with deep learning frameworks such as TensorFlow or PyTorch.\n",
        "\n",
        "**토픽 모델링(topic modeling): 단어 군집화**\n",
        "\n",
        "기계 학습 및 자연어 처리 분야에서 토픽이라는 문서 집합의 추상적인 주제를 발견하기 위한 통계적 모델 중 하나로, 텍스트 본문의 숨겨진 의미 구조를 발견하기 위해 사용되는 텍스트 마이닝 기법입니다.\n",
        "\n",
        "\n",
        "**Question?**\n",
        "* target:\n",
        "*object:\n",
        "*feature:\n",
        "\n",
        "\n"
      ]
    },
    {
      "cell_type": "markdown",
      "metadata": {
        "id": "TYBbn3wKTqNE"
      },
      "source": [
        "**spaCy (Practice)**\n",
        "\n",
        "Link: https://spacy.io/usage/spacy-101#annotations"
      ]
    },
    {
      "cell_type": "code",
      "metadata": {
        "id": "fBwKqm-cQ2n-",
        "outputId": "06b95e51-e91e-4963-8664-2fafcf7e8f5a",
        "colab": {
          "base_uri": "https://localhost:8080/",
          "height": 619
        }
      },
      "source": [
        "#spaCy\n",
        "# https://spacy.io/usage/models#download\n",
        "!pip install -U spacy"
      ],
      "execution_count": null,
      "outputs": [
        {
          "output_type": "stream",
          "text": [
            "Collecting spacy\n",
            "\u001b[?25l  Downloading https://files.pythonhosted.org/packages/10/b5/c7a92c7ce5d4b353b70b4b5b4385687206c8b230ddfe08746ab0fd310a3a/spacy-2.3.2-cp36-cp36m-manylinux1_x86_64.whl (9.9MB)\n",
            "\u001b[K     |████████████████████████████████| 10.0MB 2.8MB/s \n",
            "\u001b[?25hCollecting thinc==7.4.1\n",
            "\u001b[?25l  Downloading https://files.pythonhosted.org/packages/10/ae/ef3ae5e93639c0ef8e3eb32e3c18341e511b3c515fcfc603f4b808087651/thinc-7.4.1-cp36-cp36m-manylinux1_x86_64.whl (2.1MB)\n",
            "\u001b[K     |████████████████████████████████| 2.1MB 46.2MB/s \n",
            "\u001b[?25hRequirement already satisfied, skipping upgrade: preshed<3.1.0,>=3.0.2 in /usr/local/lib/python3.6/dist-packages (from spacy) (3.0.2)\n",
            "Requirement already satisfied, skipping upgrade: blis<0.5.0,>=0.4.0 in /usr/local/lib/python3.6/dist-packages (from spacy) (0.4.1)\n",
            "Requirement already satisfied, skipping upgrade: murmurhash<1.1.0,>=0.28.0 in /usr/local/lib/python3.6/dist-packages (from spacy) (1.0.2)\n",
            "Requirement already satisfied, skipping upgrade: wasabi<1.1.0,>=0.4.0 in /usr/local/lib/python3.6/dist-packages (from spacy) (0.8.0)\n",
            "Requirement already satisfied, skipping upgrade: tqdm<5.0.0,>=4.38.0 in /usr/local/lib/python3.6/dist-packages (from spacy) (4.41.1)\n",
            "Requirement already satisfied, skipping upgrade: setuptools in /usr/local/lib/python3.6/dist-packages (from spacy) (50.3.0)\n",
            "Requirement already satisfied, skipping upgrade: cymem<2.1.0,>=2.0.2 in /usr/local/lib/python3.6/dist-packages (from spacy) (2.0.3)\n",
            "Requirement already satisfied, skipping upgrade: srsly<1.1.0,>=1.0.2 in /usr/local/lib/python3.6/dist-packages (from spacy) (1.0.2)\n",
            "Requirement already satisfied, skipping upgrade: numpy>=1.15.0 in /usr/local/lib/python3.6/dist-packages (from spacy) (1.18.5)\n",
            "Requirement already satisfied, skipping upgrade: catalogue<1.1.0,>=0.0.7 in /usr/local/lib/python3.6/dist-packages (from spacy) (1.0.0)\n",
            "Requirement already satisfied, skipping upgrade: requests<3.0.0,>=2.13.0 in /usr/local/lib/python3.6/dist-packages (from spacy) (2.23.0)\n",
            "Requirement already satisfied, skipping upgrade: plac<1.2.0,>=0.9.6 in /usr/local/lib/python3.6/dist-packages (from spacy) (1.1.3)\n",
            "Requirement already satisfied, skipping upgrade: importlib-metadata>=0.20; python_version < \"3.8\" in /usr/local/lib/python3.6/dist-packages (from catalogue<1.1.0,>=0.0.7->spacy) (1.7.0)\n",
            "Requirement already satisfied, skipping upgrade: chardet<4,>=3.0.2 in /usr/local/lib/python3.6/dist-packages (from requests<3.0.0,>=2.13.0->spacy) (3.0.4)\n",
            "Requirement already satisfied, skipping upgrade: certifi>=2017.4.17 in /usr/local/lib/python3.6/dist-packages (from requests<3.0.0,>=2.13.0->spacy) (2020.6.20)\n",
            "Requirement already satisfied, skipping upgrade: urllib3!=1.25.0,!=1.25.1,<1.26,>=1.21.1 in /usr/local/lib/python3.6/dist-packages (from requests<3.0.0,>=2.13.0->spacy) (1.24.3)\n",
            "Requirement already satisfied, skipping upgrade: idna<3,>=2.5 in /usr/local/lib/python3.6/dist-packages (from requests<3.0.0,>=2.13.0->spacy) (2.10)\n",
            "Requirement already satisfied, skipping upgrade: zipp>=0.5 in /usr/local/lib/python3.6/dist-packages (from importlib-metadata>=0.20; python_version < \"3.8\"->catalogue<1.1.0,>=0.0.7->spacy) (3.1.0)\n",
            "Installing collected packages: thinc, spacy\n",
            "  Found existing installation: thinc 7.4.0\n",
            "    Uninstalling thinc-7.4.0:\n",
            "      Successfully uninstalled thinc-7.4.0\n",
            "  Found existing installation: spacy 2.2.4\n",
            "    Uninstalling spacy-2.2.4:\n",
            "      Successfully uninstalled spacy-2.2.4\n",
            "Successfully installed spacy-2.3.2 thinc-7.4.1\n"
          ],
          "name": "stdout"
        }
      ]
    },
    {
      "cell_type": "code",
      "metadata": {
        "id": "rXLIqb_-RCKs",
        "outputId": "4fe34a1e-2aaa-4f1f-90a3-b64a630a711a",
        "colab": {
          "base_uri": "https://localhost:8080/",
          "height": 401
        }
      },
      "source": [
        "!pip install spacy"
      ],
      "execution_count": null,
      "outputs": [
        {
          "output_type": "stream",
          "text": [
            "Requirement already satisfied: spacy in /usr/local/lib/python3.6/dist-packages (2.3.2)\n",
            "Requirement already satisfied: thinc==7.4.1 in /usr/local/lib/python3.6/dist-packages (from spacy) (7.4.1)\n",
            "Requirement already satisfied: tqdm<5.0.0,>=4.38.0 in /usr/local/lib/python3.6/dist-packages (from spacy) (4.41.1)\n",
            "Requirement already satisfied: setuptools in /usr/local/lib/python3.6/dist-packages (from spacy) (50.3.0)\n",
            "Requirement already satisfied: blis<0.5.0,>=0.4.0 in /usr/local/lib/python3.6/dist-packages (from spacy) (0.4.1)\n",
            "Requirement already satisfied: numpy>=1.15.0 in /usr/local/lib/python3.6/dist-packages (from spacy) (1.18.5)\n",
            "Requirement already satisfied: requests<3.0.0,>=2.13.0 in /usr/local/lib/python3.6/dist-packages (from spacy) (2.23.0)\n",
            "Requirement already satisfied: wasabi<1.1.0,>=0.4.0 in /usr/local/lib/python3.6/dist-packages (from spacy) (0.8.0)\n",
            "Requirement already satisfied: cymem<2.1.0,>=2.0.2 in /usr/local/lib/python3.6/dist-packages (from spacy) (2.0.3)\n",
            "Requirement already satisfied: preshed<3.1.0,>=3.0.2 in /usr/local/lib/python3.6/dist-packages (from spacy) (3.0.2)\n",
            "Requirement already satisfied: plac<1.2.0,>=0.9.6 in /usr/local/lib/python3.6/dist-packages (from spacy) (1.1.3)\n",
            "Requirement already satisfied: murmurhash<1.1.0,>=0.28.0 in /usr/local/lib/python3.6/dist-packages (from spacy) (1.0.2)\n",
            "Requirement already satisfied: srsly<1.1.0,>=1.0.2 in /usr/local/lib/python3.6/dist-packages (from spacy) (1.0.2)\n",
            "Requirement already satisfied: catalogue<1.1.0,>=0.0.7 in /usr/local/lib/python3.6/dist-packages (from spacy) (1.0.0)\n",
            "Requirement already satisfied: chardet<4,>=3.0.2 in /usr/local/lib/python3.6/dist-packages (from requests<3.0.0,>=2.13.0->spacy) (3.0.4)\n",
            "Requirement already satisfied: urllib3!=1.25.0,!=1.25.1,<1.26,>=1.21.1 in /usr/local/lib/python3.6/dist-packages (from requests<3.0.0,>=2.13.0->spacy) (1.24.3)\n",
            "Requirement already satisfied: idna<3,>=2.5 in /usr/local/lib/python3.6/dist-packages (from requests<3.0.0,>=2.13.0->spacy) (2.10)\n",
            "Requirement already satisfied: certifi>=2017.4.17 in /usr/local/lib/python3.6/dist-packages (from requests<3.0.0,>=2.13.0->spacy) (2020.6.20)\n",
            "Requirement already satisfied: importlib-metadata>=0.20; python_version < \"3.8\" in /usr/local/lib/python3.6/dist-packages (from catalogue<1.1.0,>=0.0.7->spacy) (1.7.0)\n",
            "Requirement already satisfied: zipp>=0.5 in /usr/local/lib/python3.6/dist-packages (from importlib-metadata>=0.20; python_version < \"3.8\"->catalogue<1.1.0,>=0.0.7->spacy) (3.1.0)\n"
          ],
          "name": "stdout"
        }
      ]
    },
    {
      "cell_type": "code",
      "metadata": {
        "id": "ahQaFwabRa7z",
        "outputId": "8bd80996-95d8-49cf-c154-160ad182a094",
        "colab": {
          "base_uri": "https://localhost:8080/",
          "height": 74
        }
      },
      "source": [
        "import en_core_web_sm"
      ],
      "execution_count": null,
      "outputs": [
        {
          "output_type": "stream",
          "text": [
            "/usr/local/lib/python3.6/dist-packages/spacy/util.py:275: UserWarning: [W031] Model 'en_core_web_sm' (2.2.5) requires spaCy v2.2 and is incompatible with the current spaCy version (2.3.2). This may lead to unexpected results or runtime errors. To resolve this, download a newer compatible model or retrain your custom model with the current spaCy version. For more details and available updates, run: python -m spacy validate\n",
            "  warnings.warn(warn_msg)\n"
          ],
          "name": "stderr"
        }
      ]
    },
    {
      "cell_type": "code",
      "metadata": {
        "id": "D5Oz-AhtR0P2",
        "outputId": "381ce2e8-816c-4b6d-b645-bb22644fc8b1",
        "colab": {
          "base_uri": "https://localhost:8080/",
          "height": 74
        }
      },
      "source": [
        "nlp = en_core_web_sm.load()"
      ],
      "execution_count": null,
      "outputs": [
        {
          "output_type": "stream",
          "text": [
            "/usr/local/lib/python3.6/dist-packages/spacy/util.py:275: UserWarning: [W031] Model 'en_core_web_sm' (2.2.5) requires spaCy v2.2 and is incompatible with the current spaCy version (2.3.2). This may lead to unexpected results or runtime errors. To resolve this, download a newer compatible model or retrain your custom model with the current spaCy version. For more details and available updates, run: python -m spacy validate\n",
            "  warnings.warn(warn_msg)\n"
          ],
          "name": "stderr"
        }
      ]
    },
    {
      "cell_type": "code",
      "metadata": {
        "id": "KFJbslc1SHt2",
        "outputId": "aac9b078-bb75-458b-d882-e88ee9692075",
        "colab": {
          "base_uri": "https://localhost:8080/",
          "height": 217
        }
      },
      "source": [
        "doc = nlp(\"Apple is looking at buying U.K. startup for $1 billion\")\n",
        "for token in doc:\n",
        "    print(token.text, token.pos_, token.dep_)"
      ],
      "execution_count": null,
      "outputs": [
        {
          "output_type": "stream",
          "text": [
            "Apple PROPN nsubj\n",
            "is AUX aux\n",
            "looking VERB ROOT\n",
            "at ADP prep\n",
            "buying VERB pcomp\n",
            "U.K. PROPN compound\n",
            "startup NOUN dobj\n",
            "for ADP prep\n",
            "$ SYM quantmod\n",
            "1 NUM compound\n",
            "billion NUM pobj\n"
          ],
          "name": "stdout"
        }
      ]
    },
    {
      "cell_type": "code",
      "metadata": {
        "id": "iBeFQMC1SMJI",
        "outputId": "9a0db908-b0f1-499e-b24b-7d60b6b31a8d",
        "colab": {
          "base_uri": "https://localhost:8080/",
          "height": 274
        }
      },
      "source": [
        "import spacy\n",
        "\n",
        "nlp = spacy.load(\"en_core_web_sm\")\n",
        "doc = nlp(\"Apple is looking at buying U.K. startup for $1 billion\")\n",
        "for token in doc:\n",
        "    print(token.text)"
      ],
      "execution_count": null,
      "outputs": [
        {
          "output_type": "stream",
          "text": [
            "/usr/local/lib/python3.6/dist-packages/spacy/util.py:275: UserWarning: [W031] Model 'en_core_web_sm' (2.2.5) requires spaCy v2.2 and is incompatible with the current spaCy version (2.3.2). This may lead to unexpected results or runtime errors. To resolve this, download a newer compatible model or retrain your custom model with the current spaCy version. For more details and available updates, run: python -m spacy validate\n",
            "  warnings.warn(warn_msg)\n"
          ],
          "name": "stderr"
        },
        {
          "output_type": "stream",
          "text": [
            "Apple\n",
            "is\n",
            "looking\n",
            "at\n",
            "buying\n",
            "U.K.\n",
            "startup\n",
            "for\n",
            "$\n",
            "1\n",
            "billion\n"
          ],
          "name": "stdout"
        }
      ]
    },
    {
      "cell_type": "code",
      "metadata": {
        "id": "sDOr9g6QSY2b",
        "outputId": "5e60361b-5228-43a2-e8d1-0c9b08bcf4d5",
        "colab": {
          "base_uri": "https://localhost:8080/",
          "height": 217
        }
      },
      "source": [
        "for token in doc:\n",
        "    print(token.text, token.lemma_, token.pos_, token.tag_, token.dep_,\n",
        "            token.shape_, token.is_alpha, token.is_stop)"
      ],
      "execution_count": null,
      "outputs": [
        {
          "output_type": "stream",
          "text": [
            "Apple Apple PROPN NNP nsubj Xxxxx True False\n",
            "is be AUX VBZ aux xx True True\n",
            "looking look VERB VBG ROOT xxxx True False\n",
            "at at ADP IN prep xx True True\n",
            "buying buy VERB VBG pcomp xxxx True False\n",
            "U.K. U.K. PROPN NNP compound X.X. False False\n",
            "startup startup NOUN NN dobj xxxx True False\n",
            "for for ADP IN prep xxx True True\n",
            "$ $ SYM $ quantmod $ False False\n",
            "1 1 NUM CD compound d False False\n",
            "billion billion NUM CD pobj xxxx True False\n"
          ],
          "name": "stdout"
        }
      ]
    },
    {
      "cell_type": "code",
      "metadata": {
        "id": "E5uoNx4vScw0",
        "outputId": "3787f42f-000c-44a7-a013-86363f849325",
        "colab": {
          "base_uri": "https://localhost:8080/",
          "height": 72
        }
      },
      "source": [
        "for ent in doc.ents:\n",
        "    print(ent.text, ent.start_char, ent.end_char, ent.label_)"
      ],
      "execution_count": null,
      "outputs": [
        {
          "output_type": "stream",
          "text": [
            "Apple 0 5 ORG\n",
            "U.K. 27 31 GPE\n",
            "$1 billion 44 54 MONEY\n"
          ],
          "name": "stdout"
        }
      ]
    },
    {
      "cell_type": "code",
      "metadata": {
        "id": "CxDCePHrSqCX",
        "outputId": "79921808-6642-4114-f983-bcb63b0846a5",
        "colab": {
          "base_uri": "https://localhost:8080/",
          "height": 90
        }
      },
      "source": [
        "tokens = nlp(\"dog cat banana afskfsd\")\n",
        "for token in tokens:\n",
        "    print(token.text, token.has_vector, token.vector_norm, token.is_oov)"
      ],
      "execution_count": null,
      "outputs": [
        {
          "output_type": "stream",
          "text": [
            "dog True 19.266302 True\n",
            "cat True 19.220264 True\n",
            "banana True 17.748499 True\n",
            "afskfsd True 20.882006 True\n"
          ],
          "name": "stdout"
        }
      ]
    },
    {
      "cell_type": "code",
      "metadata": {
        "id": "55cXlmoHSvnS",
        "outputId": "9dd854bd-3556-4779-e561-fb0e564b1454",
        "colab": {
          "base_uri": "https://localhost:8080/",
          "height": 237
        }
      },
      "source": [
        "tokens = nlp(\"dog cat banana\")\n",
        "\n",
        "for token1 in tokens:\n",
        "    for token2 in tokens:\n",
        "        print(token1.text, token2.text, token1.similarity(token2))"
      ],
      "execution_count": null,
      "outputs": [
        {
          "output_type": "stream",
          "text": [
            "dog dog 1.0\n",
            "dog cat 0.47130838\n",
            "dog banana 0.3275862\n",
            "cat dog 0.47130838\n",
            "cat cat 1.0\n",
            "cat banana 0.3547838\n",
            "banana dog 0.3275862\n",
            "banana cat 0.3547838\n",
            "banana banana 1.0\n"
          ],
          "name": "stdout"
        },
        {
          "output_type": "stream",
          "text": [
            "/usr/local/lib/python3.6/dist-packages/ipykernel_launcher.py:5: UserWarning: [W007] The model you're using has no word vectors loaded, so the result of the Token.similarity method will be based on the tagger, parser and NER, which may not give useful similarity judgements. This may happen if you're using one of the small models, e.g. `en_core_web_sm`, which don't ship with word vectors and only use context-sensitive tensors. You can always add your own word vectors, or use one of the larger models instead if available.\n",
            "  \"\"\"\n"
          ],
          "name": "stderr"
        }
      ]
    },
    {
      "cell_type": "code",
      "metadata": {
        "id": "zROOnm8oS-Lh",
        "outputId": "1574bf45-97a8-46c0-f523-406576ab58b6",
        "colab": {
          "base_uri": "https://localhost:8080/",
          "height": 54
        }
      },
      "source": [
        "doc = nlp(\"I love coffee\")\n",
        "print(doc.vocab.strings[\"coffee\"])  # 3197928453018144401\n",
        "print(doc.vocab.strings[3197928453018144401])  # 'coffee"
      ],
      "execution_count": null,
      "outputs": [
        {
          "output_type": "stream",
          "text": [
            "3197928453018144401\n",
            "coffee\n"
          ],
          "name": "stdout"
        }
      ]
    },
    {
      "cell_type": "code",
      "metadata": {
        "id": "P-f7mePfTAxl",
        "outputId": "3d950f3d-90ed-4208-a8f9-bcda8763b5a1",
        "colab": {
          "base_uri": "https://localhost:8080/",
          "height": 72
        }
      },
      "source": [
        "for word in doc:\n",
        "    lexeme = doc.vocab[word.text]\n",
        "    print(lexeme.text, lexeme.orth, lexeme.shape_, lexeme.prefix_, lexeme.suffix_,\n",
        "            lexeme.is_alpha, lexeme.is_digit, lexeme.is_title, lexeme.lang_)"
      ],
      "execution_count": null,
      "outputs": [
        {
          "output_type": "stream",
          "text": [
            "I 4690420944186131903 X I I True False True en\n",
            "love 3702023516439754181 xxxx l ove True False False en\n",
            "coffee 3197928453018144401 xxxx c fee True False False en\n"
          ],
          "name": "stdout"
        }
      ]
    },
    {
      "cell_type": "code",
      "metadata": {
        "id": "4t8NiXBFTH1k"
      },
      "source": [
        "from spacy.tokens import Doc\n",
        "from spacy.vocab import Vocab"
      ],
      "execution_count": null,
      "outputs": []
    },
    {
      "cell_type": "code",
      "metadata": {
        "id": "wXRrL57zTDxX",
        "outputId": "399bdb4c-a826-4c59-ae5c-060e76d96ebb",
        "colab": {
          "base_uri": "https://localhost:8080/",
          "height": 146
        }
      },
      "source": [
        "nlp = spacy.load(\"en_core_web_sm\")\n",
        "doc = nlp(\"I love coffee\")  # Original Doc\n",
        "print(doc.vocab.strings[\"coffee\"])  # 3197928453018144401\n",
        "print(doc.vocab.strings[3197928453018144401])  # 'coffee' \n",
        "\n",
        "empty_doc = Doc(Vocab())  # New Doc with empty Vocab\n",
        "# empty_doc.vocab.strings[3197928453018144401] will raise an error :(\n",
        "\n",
        "empty_doc.vocab.strings.add(\"coffee\")  # Add \"coffee\" and generate hash\n",
        "print(empty_doc.vocab.strings[3197928453018144401])  # 'coffee' \n",
        "\n",
        "new_doc = Doc(doc.vocab)  # Create new doc with first doc's vocab\n",
        "print(new_doc.vocab.strings[3197928453018144401])  # 'coffee' "
      ],
      "execution_count": null,
      "outputs": [
        {
          "output_type": "stream",
          "text": [
            "/usr/local/lib/python3.6/dist-packages/spacy/util.py:275: UserWarning: [W031] Model 'en_core_web_sm' (2.2.5) requires spaCy v2.2 and is incompatible with the current spaCy version (2.3.2). This may lead to unexpected results or runtime errors. To resolve this, download a newer compatible model or retrain your custom model with the current spaCy version. For more details and available updates, run: python -m spacy validate\n",
            "  warnings.warn(warn_msg)\n"
          ],
          "name": "stderr"
        },
        {
          "output_type": "stream",
          "text": [
            "3197928453018144401\n",
            "coffee\n",
            "coffee\n",
            "coffee\n"
          ],
          "name": "stdout"
        }
      ]
    },
    {
      "cell_type": "code",
      "metadata": {
        "id": "mHCq8xuLTMbP",
        "outputId": "5bbfd039-35ad-4ae8-de24-252dbf7e2376",
        "colab": {
          "base_uri": "https://localhost:8080/",
          "height": 128
        }
      },
      "source": [
        "from spacy.kb import KnowledgeBase\n",
        "\n",
        "# load the model and create an empty KB\n",
        "nlp = spacy.load('en_core_web_sm')\n",
        "kb = KnowledgeBase(vocab=nlp.vocab, entity_vector_length=3)\n",
        "\n",
        "# adding entities\n",
        "kb.add_entity(entity=\"Q1004791\", freq=6, entity_vector=[0, 3, 5])\n",
        "kb.add_entity(entity=\"Q42\", freq=342, entity_vector=[1, 9, -3])\n",
        "kb.add_entity(entity=\"Q5301561\", freq=12, entity_vector=[-2, 4, 2])\n",
        "\n",
        "# adding aliases\n",
        "kb.add_alias(alias=\"Douglas\", entities=[\"Q1004791\", \"Q42\", \"Q5301561\"], probabilities=[0.6, 0.1, 0.2])\n",
        "kb.add_alias(alias=\"Douglas Adams\", entities=[\"Q42\"], probabilities=[0.9])\n",
        "\n",
        "print()\n",
        "print(\"Number of entities in KB:\",kb.get_size_entities()) # 3\n",
        "print(\"Number of aliases in KB:\", kb.get_size_aliases()) # 2"
      ],
      "execution_count": null,
      "outputs": [
        {
          "output_type": "stream",
          "text": [
            "/usr/local/lib/python3.6/dist-packages/spacy/util.py:275: UserWarning: [W031] Model 'en_core_web_sm' (2.2.5) requires spaCy v2.2 and is incompatible with the current spaCy version (2.3.2). This may lead to unexpected results or runtime errors. To resolve this, download a newer compatible model or retrain your custom model with the current spaCy version. For more details and available updates, run: python -m spacy validate\n",
            "  warnings.warn(warn_msg)\n"
          ],
          "name": "stderr"
        },
        {
          "output_type": "stream",
          "text": [
            "\n",
            "Number of entities in KB: 3\n",
            "Number of aliases in KB: 2\n"
          ],
          "name": "stdout"
        }
      ]
    },
    {
      "cell_type": "code",
      "metadata": {
        "id": "TXox2c-nThe0",
        "outputId": "c622f773-0079-4a06-832e-ab6dc594fee3",
        "colab": {
          "base_uri": "https://localhost:8080/",
          "height": 128
        }
      },
      "source": [
        "from spacy.kb import KnowledgeBase\n",
        "\n",
        "nlp = spacy.load('en_core_web_sm')\n",
        "kb = KnowledgeBase(vocab=nlp.vocab, entity_vector_length=3)\n",
        "\n",
        "# adding entities\n",
        "kb.add_entity(entity=\"Q1004791\", freq=6, entity_vector=[0, 3, 5])\n",
        "kb.add_entity(entity=\"Q42\", freq=342, entity_vector=[1, 9, -3])\n",
        "kb.add_entity(entity=\"Q5301561\", freq=12, entity_vector=[-2, 4, 2])\n",
        "\n",
        "# adding aliases\n",
        "kb.add_alias(alias=\"Douglas\", entities=[\"Q1004791\", \"Q42\", \"Q5301561\"], probabilities=[0.6, 0.1, 0.2])\n",
        "\n",
        "candidates = kb.get_candidates(\"Douglas\")\n",
        "for c in candidates:\n",
        "    print(\" \", c.entity_, c.prior_prob, c.entity_vector)"
      ],
      "execution_count": null,
      "outputs": [
        {
          "output_type": "stream",
          "text": [
            "/usr/local/lib/python3.6/dist-packages/spacy/util.py:275: UserWarning: [W031] Model 'en_core_web_sm' (2.2.5) requires spaCy v2.2 and is incompatible with the current spaCy version (2.3.2). This may lead to unexpected results or runtime errors. To resolve this, download a newer compatible model or retrain your custom model with the current spaCy version. For more details and available updates, run: python -m spacy validate\n",
            "  warnings.warn(warn_msg)\n"
          ],
          "name": "stderr"
        },
        {
          "output_type": "stream",
          "text": [
            "  Q1004791 0.6000000238418579 [0.0, 3.0, 5.0]\n",
            "  Q42 0.10000000149011612 [1.0, 9.0, -3.0]\n",
            "  Q5301561 0.20000000298023224 [-2.0, 4.0, 2.0]\n"
          ],
          "name": "stdout"
        }
      ]
    }
  ]
}